{
 "cells": [
  {
   "cell_type": "code",
   "execution_count": 8,
   "id": "f9757571-058d-4916-b64a-fdbde51e2c67",
   "metadata": {
    "tags": []
   },
   "outputs": [],
   "source": [
    "import cooler\n",
    "\n",
    "def extract_chr1_from_mcool(mcool_path, output_path):\n",
    "    \"\"\"\n",
    "    Extracts chromosome 1 from a Hi-C mcool matrix and saves it to a new file.\n",
    "\n",
    "    Parameters:\n",
    "    mcool_path (str): Path to the input mcool file.\n",
    "    output_path (str): Path to the output mcool file containing only chr1.\n",
    "    \"\"\"\n",
    "    \n",
    "    # Open the mcool file\n",
    "    c = cooler.Cooler(mcool_path + '::resolutions/10000')  # Adjust resolution as needed\n",
    "\n",
    "    # Extract the bins and pixels for chr1\n",
    "    bins = c.bins()[:]\n",
    "    pixels = c.pixels()[:]\n",
    "\n",
    "    # Filter bins and pixels for chr1\n",
    "    chr1_bins = bins[bins['chrom'] == '1']\n",
    "    chr1_pixels = pixels[(pixels['bin1_id'].isin(chr1_bins.index)) & (pixels['bin2_id'].isin(chr1_bins.index))]\n",
    "\n",
    "    # Create a new Cooler object for chr1\n",
    "    cooler.create_cooler(output_path, bins=chr1_bins, pixels=chr1_pixels, assembly=c.info['genome-assembly'])\n",
    "\n",
    "# Example usage\n",
    "extract_chr1_from_mcool('/data/processing2/erikson_pipegrp/methylation/NlaIII_run02_GRCm38_unphased.matrix.mcool', '/data/processing2/erikson_pipegrp/methylation/chr1.mcool')"
   ]
  },
  {
   "cell_type": "code",
   "execution_count": null,
   "id": "9fd9229e-7614-401c-a9d6-028e753cad3c",
   "metadata": {
    "tags": []
   },
   "outputs": [],
   "source": [
    "#mcool to text\n",
    "import cooler\n",
    "\n",
    "# Load the .mcool file\n",
    "c = cooler.Cooler(\"/data/processing2/erikson_pipegrp/methylation/NlaIII_run02_GRCm38_unphased.matrix.mcool\" + '::resolutions/10000')\n",
    "\n",
    "# Calculate balancing weights\n",
    "#cooler.balance_cooler(c)\n",
    "\n",
    "# Extract the data you need, for example, the contact matrix\n",
    "#matrix = c.matrix(balance=True)[:]\n",
    "matrix = c.matrix(balance=False)[:]\n",
    "\n",
    "# Write the matrix to a text file\n",
    "with open(\"/data/processing2/erikson_pipegrp/methylation/matrix.txt\", \"w\") as f:\n",
    "    for row in matrix:\n",
    "        #print('Hello')\n",
    "        f.write(\"\\t\".join(map(str, row)) + \"\\n\")"
   ]
  },
  {
   "cell_type": "code",
   "execution_count": 9,
   "id": "1bb518f0-b6dc-490e-bc2a-02415021efe2",
   "metadata": {
    "tags": []
   },
   "outputs": [
    {
     "ename": "ModuleNotFoundError",
     "evalue": "No module named 'matplotlib'",
     "output_type": "error",
     "traceback": [
      "\u001b[0;31m---------------------------------------------------------------------------\u001b[0m",
      "\u001b[0;31mModuleNotFoundError\u001b[0m                       Traceback (most recent call last)",
      "Cell \u001b[0;32mIn[9], line 2\u001b[0m\n\u001b[1;32m      1\u001b[0m \u001b[38;5;28;01mimport\u001b[39;00m \u001b[38;5;21;01mcooler\u001b[39;00m\n\u001b[0;32m----> 2\u001b[0m \u001b[38;5;28;01mimport\u001b[39;00m \u001b[38;5;21;01mmatplotlib\u001b[39;00m\u001b[38;5;21;01m.\u001b[39;00m\u001b[38;5;21;01mpyplot\u001b[39;00m \u001b[38;5;28;01mas\u001b[39;00m \u001b[38;5;21;01mplt\u001b[39;00m\n\u001b[1;32m      4\u001b[0m \u001b[38;5;66;03m# Load the mcool file\u001b[39;00m\n\u001b[1;32m      5\u001b[0m mcool_file \u001b[38;5;241m=\u001b[39m \u001b[38;5;124m'\u001b[39m\u001b[38;5;124m/data/processing2/erikson_pipegrp/methylation/chr1.mcool\u001b[39m\u001b[38;5;124m'\u001b[39m\n",
      "\u001b[0;31mModuleNotFoundError\u001b[0m: No module named 'matplotlib'"
     ]
    }
   ],
   "source": [
    "import cooler\n",
    "import matplotlib.pyplot as plt\n",
    "\n",
    "# Load the mcool file\n",
    "mcool_file = '/data/processing2/erikson_pipegrp/methylation/chr1.mcool'\n",
    "c = cooler.Cooler(mcool_file + '::resolutions/10000')  # Adjust the resolution as needed\n",
    "\n",
    "# Extract the Hi-C matrix\n",
    "matrix = c.matrix(balance=True)[:]\n",
    "\n",
    "# Plot the Hi-C matrix\n",
    "plt.imshow(matrix, cmap='Reds', norm=LogNorm())\n",
    "plt.colorbar(label='Contact frequency')\n",
    "plt.title('Hi-C Contact Matrix')\n",
    "plt.xlabel('Genomic bin')\n",
    "plt.ylabel('Genomic bin')\n",
    "plt.show()"
   ]
  },
  {
   "cell_type": "code",
   "execution_count": null,
   "id": "c968bdd0-4589-466f-84ee-293d1a6d7c65",
   "metadata": {},
   "outputs": [],
   "source": []
  }
 ],
 "metadata": {
  "kernelspec": {
   "display_name": "methylation",
   "language": "python",
   "name": "methylation"
  },
  "language_info": {
   "codemirror_mode": {
    "name": "ipython",
    "version": 3
   },
   "file_extension": ".py",
   "mimetype": "text/x-python",
   "name": "python",
   "nbconvert_exporter": "python",
   "pygments_lexer": "ipython3",
   "version": "3.12.6"
  }
 },
 "nbformat": 4,
 "nbformat_minor": 5
}
