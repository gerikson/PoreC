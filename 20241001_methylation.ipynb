{
 "cells": [
  {
   "cell_type": "code",
   "execution_count": 8,
   "id": "f9757571-058d-4916-b64a-fdbde51e2c67",
   "metadata": {
    "tags": []
   },
   "outputs": [],
   "source": [
    "import cooler\n",
    "\n",
    "def extract_chr1_from_mcool(mcool_path, output_path):\n",
    "    \"\"\"\n",
    "    Extracts chromosome 1 from a Hi-C mcool matrix and saves it to a new file.\n",
    "\n",
    "    Parameters:\n",
    "    mcool_path (str): Path to the input mcool file.\n",
    "    output_path (str): Path to the output mcool file containing only chr1.\n",
    "    \"\"\"\n",
    "    \n",
    "    # Open the mcool file\n",
    "    c = cooler.Cooler(mcool_path + '::resolutions/10000')  # Adjust resolution as needed\n",
    "\n",
    "    # Extract the bins and pixels for chr1\n",
    "    bins = c.bins()[:]\n",
    "    pixels = c.pixels()[:]\n",
    "\n",
    "    # Filter bins and pixels for chr1\n",
    "    chr1_bins = bins[bins['chrom'] == '1']\n",
    "    chr1_pixels = pixels[(pixels['bin1_id'].isin(chr1_bins.index)) & (pixels['bin2_id'].isin(chr1_bins.index))]\n",
    "\n",
    "    # Create a new Cooler object for chr1\n",
    "    cooler.create_cooler(output_path, bins=chr1_bins, pixels=chr1_pixels, assembly=c.info['genome-assembly'])\n",
    "\n",
    "# Example usage\n",
    "extract_chr1_from_mcool('/data/processing2/erikson_pipegrp/methylation/NlaIII_run02_GRCm38_unphased.matrix.mcool', '/data/processing2/erikson_pipegrp/methylation/chr1.mcool')"
   ]
  },
  {
   "cell_type": "code",
   "execution_count": null,
   "id": "9fd9229e-7614-401c-a9d6-028e753cad3c",
   "metadata": {
    "tags": []
   },
   "outputs": [],
   "source": [
    "#mcool to text\n",
    "import cooler\n",
    "\n",
    "# Load the .mcool file\n",
    "c = cooler.Cooler(\"/data/processing2/erikson_pipegrp/methylation/NlaIII_run02_GRCm38_unphased.matrix.mcool\" + '::resolutions/10000')\n",
    "\n",
    "# Calculate balancing weights\n",
    "#cooler.balance_cooler(c)\n",
    "\n",
    "# Extract the data you need, for example, the contact matrix\n",
    "#matrix = c.matrix(balance=True)[:]\n",
    "matrix = c.matrix(balance=False)[:]\n",
    "\n",
    "# Write the matrix to a text file\n",
    "with open(\"/data/processing2/erikson_pipegrp/methylation/matrix.txt\", \"w\") as f:\n",
    "    for row in matrix:\n",
    "        #print('Hello')\n",
    "        f.write(\"\\t\".join(map(str, row)) + \"\\n\")"
   ]
  },
  {
   "cell_type": "code",
   "execution_count": 14,
   "id": "1bb518f0-b6dc-490e-bc2a-02415021efe2",
   "metadata": {
    "tags": []
   },
   "outputs": [
    {
     "ename": "KeyError",
     "evalue": "\"No cooler found at: /data/processing2/erikson_pipegrp/methylation/chr1.mcool. Coolers found in ['/']. Use '::' to specify a group path\"",
     "output_type": "error",
     "traceback": [
      "\u001b[0;31m---------------------------------------------------------------------------\u001b[0m",
      "\u001b[0;31mKeyError\u001b[0m                                  Traceback (most recent call last)",
      "Cell \u001b[0;32mIn[14], line 6\u001b[0m\n\u001b[1;32m      4\u001b[0m \u001b[38;5;66;03m# Load the mcool file\u001b[39;00m\n\u001b[1;32m      5\u001b[0m mcool_file \u001b[38;5;241m=\u001b[39m \u001b[38;5;124m'\u001b[39m\u001b[38;5;124m/data/processing2/erikson_pipegrp/methylation/chr1.mcool\u001b[39m\u001b[38;5;124m'\u001b[39m\n\u001b[0;32m----> 6\u001b[0m c \u001b[38;5;241m=\u001b[39m \u001b[43mcooler\u001b[49m\u001b[38;5;241;43m.\u001b[39;49m\u001b[43mCooler\u001b[49m\u001b[43m(\u001b[49m\u001b[38;5;124;43m\"\u001b[39;49m\u001b[38;5;124;43m/data/processing2/erikson_pipegrp/methylation/chr1.mcool\u001b[39;49m\u001b[38;5;124;43m\"\u001b[39;49m\u001b[43m \u001b[49m\u001b[38;5;241;43m+\u001b[39;49m\u001b[43m \u001b[49m\u001b[38;5;124;43m'\u001b[39;49m\u001b[38;5;124;43m::resolutions/10000\u001b[39;49m\u001b[38;5;124;43m'\u001b[39;49m\u001b[43m)\u001b[49m  \u001b[38;5;66;03m# Adjust the resolution as needed\u001b[39;00m\n\u001b[1;32m      8\u001b[0m \u001b[38;5;66;03m# Extract the Hi-C matrix\u001b[39;00m\n\u001b[1;32m      9\u001b[0m matrix \u001b[38;5;241m=\u001b[39m c\u001b[38;5;241m.\u001b[39mmatrix(balance\u001b[38;5;241m=\u001b[39m\u001b[38;5;28;01mTrue\u001b[39;00m)[:]\n",
      "File \u001b[0;32m/localenv/erikson/anaconda/envs/methylation/lib/python3.12/site-packages/cooler/api.py:88\u001b[0m, in \u001b[0;36mCooler.__init__\u001b[0;34m(self, store, root, **kwargs)\u001b[0m\n\u001b[1;32m     86\u001b[0m     \u001b[38;5;28mself\u001b[39m\u001b[38;5;241m.\u001b[39mstore \u001b[38;5;241m=\u001b[39m store\u001b[38;5;241m.\u001b[39mfile\n\u001b[1;32m     87\u001b[0m     \u001b[38;5;28mself\u001b[39m\u001b[38;5;241m.\u001b[39mopen_kws \u001b[38;5;241m=\u001b[39m {}\n\u001b[0;32m---> 88\u001b[0m \u001b[38;5;28;43mself\u001b[39;49m\u001b[38;5;241;43m.\u001b[39;49m\u001b[43m_refresh\u001b[49m\u001b[43m(\u001b[49m\u001b[43m)\u001b[49m\n",
      "File \u001b[0;32m/localenv/erikson/anaconda/envs/methylation/lib/python3.12/site-packages/cooler/api.py:109\u001b[0m, in \u001b[0;36mCooler._refresh\u001b[0;34m(self)\u001b[0m\n\u001b[1;32m    104\u001b[0m \u001b[38;5;28;01mif\u001b[39;00m \u001b[38;5;28mlen\u001b[39m(listing):\n\u001b[1;32m    105\u001b[0m     err_msg \u001b[38;5;241m+\u001b[39m\u001b[38;5;241m=\u001b[39m (\n\u001b[1;32m    106\u001b[0m         \u001b[38;5;124mf\u001b[39m\u001b[38;5;124m\"\u001b[39m\u001b[38;5;124m Coolers found in \u001b[39m\u001b[38;5;132;01m{\u001b[39;00mlisting\u001b[38;5;132;01m}\u001b[39;00m\u001b[38;5;124m. \u001b[39m\u001b[38;5;124m\"\u001b[39m\n\u001b[1;32m    107\u001b[0m         \u001b[38;5;241m+\u001b[39m \u001b[38;5;124m\"\u001b[39m\u001b[38;5;124mUse \u001b[39m\u001b[38;5;124m'\u001b[39m\u001b[38;5;124m::\u001b[39m\u001b[38;5;124m'\u001b[39m\u001b[38;5;124m to specify a group path\u001b[39m\u001b[38;5;124m\"\u001b[39m\n\u001b[1;32m    108\u001b[0m     )\n\u001b[0;32m--> 109\u001b[0m \u001b[38;5;28;01mraise\u001b[39;00m \u001b[38;5;167;01mKeyError\u001b[39;00m(err_msg) \u001b[38;5;28;01mfrom\u001b[39;00m \u001b[38;5;28;01mNone\u001b[39;00m\n",
      "\u001b[0;31mKeyError\u001b[0m: \"No cooler found at: /data/processing2/erikson_pipegrp/methylation/chr1.mcool. Coolers found in ['/']. Use '::' to specify a group path\""
     ]
    }
   ],
   "source": [
    "import cooler\n",
    "import matplotlib.pyplot as plt\n",
    "\n",
    "# Load the mcool file\n",
    "mcool_file = '/data/processing2/erikson_pipegrp/methylation/chr1.mcool'\n",
    "c = cooler.Cooler(\"/data/processing2/erikson_pipegrp/methylation/chr1.mcool\" + '::resolutions/10000')  # Adjust the resolution as needed\n",
    "\n",
    "# Extract the Hi-C matrix\n",
    "matrix = c.matrix(balance=True)[:]\n",
    "\n",
    "# Plot the Hi-C matrix\n",
    "plt.imshow(matrix, cmap='Reds', norm=LogNorm())\n",
    "plt.colorbar(label='Contact frequency')\n",
    "plt.title('Hi-C Contact Matrix')\n",
    "plt.xlabel('Genomic bin')\n",
    "plt.ylabel('Genomic bin')\n",
    "plt.show()"
   ]
  },
  {
   "cell_type": "code",
   "execution_count": 15,
   "id": "c968bdd0-4589-466f-84ee-293d1a6d7c65",
   "metadata": {
    "tags": []
   },
   "outputs": [
    {
     "ename": "KeyboardInterrupt",
     "evalue": "",
     "output_type": "error",
     "traceback": [
      "\u001b[0;31m---------------------------------------------------------------------------\u001b[0m",
      "\u001b[0;31mKeyboardInterrupt\u001b[0m                         Traceback (most recent call last)",
      "Cell \u001b[0;32mIn[15], line 9\u001b[0m\n\u001b[1;32m      6\u001b[0m mcool_file \u001b[38;5;241m=\u001b[39m \u001b[38;5;124m'\u001b[39m\u001b[38;5;124m/data/processing2/erikson_pipegrp/methylation/NlaIII_run02_GRCm38_unphased.matrix.mcool\u001b[39m\u001b[38;5;124m'\u001b[39m\n\u001b[1;32m      7\u001b[0m c \u001b[38;5;241m=\u001b[39m cooler\u001b[38;5;241m.\u001b[39mCooler(mcool_file \u001b[38;5;241m+\u001b[39m \u001b[38;5;124m'\u001b[39m\u001b[38;5;124m::resolutions/10000\u001b[39m\u001b[38;5;124m'\u001b[39m)  \u001b[38;5;66;03m# Adjust the resolution as needed\u001b[39;00m\n\u001b[0;32m----> 9\u001b[0m \u001b[43mcooler\u001b[49m\u001b[38;5;241;43m.\u001b[39;49m\u001b[43mbalance_cooler\u001b[49m\u001b[43m(\u001b[49m\u001b[43mc\u001b[49m\u001b[43m)\u001b[49m\n\u001b[1;32m     11\u001b[0m \u001b[38;5;66;03m# Get the bins corresponding to chromosome 1\u001b[39;00m\n\u001b[1;32m     12\u001b[0m chrom_bins \u001b[38;5;241m=\u001b[39m c\u001b[38;5;241m.\u001b[39mbins()\u001b[38;5;241m.\u001b[39mfetch(\u001b[38;5;124m'\u001b[39m\u001b[38;5;124m1\u001b[39m\u001b[38;5;124m'\u001b[39m)\n",
      "File \u001b[0;32m/localenv/erikson/anaconda/envs/methylation/lib/python3.12/site-packages/cooler/balance.py:438\u001b[0m, in \u001b[0;36mbalance_cooler\u001b[0;34m(clr, cis_only, trans_only, ignore_diags, mad_max, min_nnz, min_count, blacklist, rescale_marginals, x0, tol, max_iters, chunksize, map, use_lock, store, store_name)\u001b[0m\n\u001b[1;32m    425\u001b[0m     bias, scale, var \u001b[38;5;241m=\u001b[39m _balance_transonly(\n\u001b[1;32m    426\u001b[0m         bias,\n\u001b[1;32m    427\u001b[0m         clr,\n\u001b[0;32m   (...)\u001b[0m\n\u001b[1;32m    435\u001b[0m         use_lock,\n\u001b[1;32m    436\u001b[0m     )\n\u001b[1;32m    437\u001b[0m \u001b[38;5;28;01melse\u001b[39;00m:\n\u001b[0;32m--> 438\u001b[0m     bias, scale, var \u001b[38;5;241m=\u001b[39m \u001b[43m_balance_genomewide\u001b[49m\u001b[43m(\u001b[49m\n\u001b[1;32m    439\u001b[0m \u001b[43m        \u001b[49m\u001b[43mbias\u001b[49m\u001b[43m,\u001b[49m\n\u001b[1;32m    440\u001b[0m \u001b[43m        \u001b[49m\u001b[43mclr\u001b[49m\u001b[43m,\u001b[49m\n\u001b[1;32m    441\u001b[0m \u001b[43m        \u001b[49m\u001b[43mspans\u001b[49m\u001b[43m,\u001b[49m\n\u001b[1;32m    442\u001b[0m \u001b[43m        \u001b[49m\u001b[43mbase_filters\u001b[49m\u001b[43m,\u001b[49m\n\u001b[1;32m    443\u001b[0m \u001b[43m        \u001b[49m\u001b[43mchunksize\u001b[49m\u001b[43m,\u001b[49m\n\u001b[1;32m    444\u001b[0m \u001b[43m        \u001b[49m\u001b[38;5;28;43mmap\u001b[39;49m\u001b[43m,\u001b[49m\n\u001b[1;32m    445\u001b[0m \u001b[43m        \u001b[49m\u001b[43mtol\u001b[49m\u001b[43m,\u001b[49m\n\u001b[1;32m    446\u001b[0m \u001b[43m        \u001b[49m\u001b[43mmax_iters\u001b[49m\u001b[43m,\u001b[49m\n\u001b[1;32m    447\u001b[0m \u001b[43m        \u001b[49m\u001b[43mrescale_marginals\u001b[49m\u001b[43m,\u001b[49m\n\u001b[1;32m    448\u001b[0m \u001b[43m        \u001b[49m\u001b[43muse_lock\u001b[49m\u001b[43m,\u001b[49m\n\u001b[1;32m    449\u001b[0m \u001b[43m    \u001b[49m\u001b[43m)\u001b[49m\n\u001b[1;32m    451\u001b[0m stats \u001b[38;5;241m=\u001b[39m {\n\u001b[1;32m    452\u001b[0m     \u001b[38;5;124m\"\u001b[39m\u001b[38;5;124mtol\u001b[39m\u001b[38;5;124m\"\u001b[39m: tol,\n\u001b[1;32m    453\u001b[0m     \u001b[38;5;124m\"\u001b[39m\u001b[38;5;124mmin_nnz\u001b[39m\u001b[38;5;124m\"\u001b[39m: min_nnz,\n\u001b[0;32m   (...)\u001b[0m\n\u001b[1;32m    461\u001b[0m     \u001b[38;5;124m\"\u001b[39m\u001b[38;5;124mdivisive_weights\u001b[39m\u001b[38;5;124m\"\u001b[39m: \u001b[38;5;28;01mFalse\u001b[39;00m,\n\u001b[1;32m    462\u001b[0m }\n\u001b[1;32m    464\u001b[0m \u001b[38;5;28;01mif\u001b[39;00m store:\n",
      "File \u001b[0;32m/localenv/erikson/anaconda/envs/methylation/lib/python3.12/site-packages/cooler/balance.py:94\u001b[0m, in \u001b[0;36m_balance_genomewide\u001b[0;34m(bias, clr, spans, filters, chunksize, map, tol, max_iters, rescale_marginals, use_lock)\u001b[0m\n\u001b[1;32m     85\u001b[0m n_bins \u001b[38;5;241m=\u001b[39m \u001b[38;5;28mlen\u001b[39m(bias)\n\u001b[1;32m     87\u001b[0m \u001b[38;5;28;01mfor\u001b[39;00m _ \u001b[38;5;129;01min\u001b[39;00m \u001b[38;5;28mrange\u001b[39m(max_iters):\n\u001b[1;32m     88\u001b[0m     marg \u001b[38;5;241m=\u001b[39m (\n\u001b[1;32m     89\u001b[0m         \u001b[43msplit\u001b[49m\u001b[43m(\u001b[49m\u001b[43mclr\u001b[49m\u001b[43m,\u001b[49m\u001b[43m \u001b[49m\u001b[43mspans\u001b[49m\u001b[38;5;241;43m=\u001b[39;49m\u001b[43mspans\u001b[49m\u001b[43m,\u001b[49m\u001b[43m \u001b[49m\u001b[38;5;28;43mmap\u001b[39;49m\u001b[38;5;241;43m=\u001b[39;49m\u001b[38;5;28;43mmap\u001b[39;49m\u001b[43m,\u001b[49m\u001b[43m \u001b[49m\u001b[43muse_lock\u001b[49m\u001b[38;5;241;43m=\u001b[39;49m\u001b[43muse_lock\u001b[49m\u001b[43m)\u001b[49m\n\u001b[1;32m     90\u001b[0m \u001b[43m        \u001b[49m\u001b[38;5;241;43m.\u001b[39;49m\u001b[43mprepare\u001b[49m\u001b[43m(\u001b[49m\u001b[43m_init\u001b[49m\u001b[43m)\u001b[49m\n\u001b[1;32m     91\u001b[0m \u001b[43m        \u001b[49m\u001b[38;5;241;43m.\u001b[39;49m\u001b[43mpipe\u001b[49m\u001b[43m(\u001b[49m\u001b[43mfilters\u001b[49m\u001b[43m)\u001b[49m\n\u001b[1;32m     92\u001b[0m \u001b[43m        \u001b[49m\u001b[38;5;241;43m.\u001b[39;49m\u001b[43mpipe\u001b[49m\u001b[43m(\u001b[49m\u001b[43m_timesouterproduct\u001b[49m\u001b[43m,\u001b[49m\u001b[43m \u001b[49m\u001b[43mbias\u001b[49m\u001b[43m)\u001b[49m\n\u001b[1;32m     93\u001b[0m \u001b[43m        \u001b[49m\u001b[38;5;241;43m.\u001b[39;49m\u001b[43mpipe\u001b[49m\u001b[43m(\u001b[49m\u001b[43m_marginalize\u001b[49m\u001b[43m)\u001b[49m\n\u001b[0;32m---> 94\u001b[0m \u001b[43m        \u001b[49m\u001b[38;5;241;43m.\u001b[39;49m\u001b[43mreduce\u001b[49m\u001b[43m(\u001b[49m\u001b[43madd\u001b[49m\u001b[43m,\u001b[49m\u001b[43m \u001b[49m\u001b[43mnp\u001b[49m\u001b[38;5;241;43m.\u001b[39;49m\u001b[43mzeros\u001b[49m\u001b[43m(\u001b[49m\u001b[43mn_bins\u001b[49m\u001b[43m)\u001b[49m\u001b[43m)\u001b[49m\n\u001b[1;32m     95\u001b[0m     )\n\u001b[1;32m     97\u001b[0m     nzmarg \u001b[38;5;241m=\u001b[39m marg[marg \u001b[38;5;241m!=\u001b[39m \u001b[38;5;241m0\u001b[39m]\n\u001b[1;32m     98\u001b[0m     \u001b[38;5;28;01mif\u001b[39;00m \u001b[38;5;129;01mnot\u001b[39;00m \u001b[38;5;28mlen\u001b[39m(nzmarg):\n",
      "File \u001b[0;32m/localenv/erikson/anaconda/envs/methylation/lib/python3.12/site-packages/cooler/parallel.py:272\u001b[0m, in \u001b[0;36mMultiplexDataPipe.reduce\u001b[0;34m(self, binop, init)\u001b[0m\n\u001b[1;32m    252\u001b[0m \u001b[38;5;28;01mdef\u001b[39;00m \u001b[38;5;21mreduce\u001b[39m(\n\u001b[1;32m    253\u001b[0m     \u001b[38;5;28mself\u001b[39m,\n\u001b[1;32m    254\u001b[0m     binop: Callable[[Any, Any], Any],\n\u001b[1;32m    255\u001b[0m     init: Any,\n\u001b[1;32m    256\u001b[0m ) \u001b[38;5;241m-\u001b[39m\u001b[38;5;241m>\u001b[39m Any:\n\u001b[1;32m    257\u001b[0m \u001b[38;5;250m    \u001b[39m\u001b[38;5;124;03m\"\"\"\u001b[39;00m\n\u001b[1;32m    258\u001b[0m \u001b[38;5;124;03m    Run the pipeline and fold outputs cumulatively as they are returned\u001b[39;00m\n\u001b[1;32m    259\u001b[0m \n\u001b[0;32m   (...)\u001b[0m\n\u001b[1;32m    270\u001b[0m \n\u001b[1;32m    271\u001b[0m \u001b[38;5;124;03m    \"\"\"\u001b[39;00m\n\u001b[0;32m--> 272\u001b[0m     \u001b[38;5;28;01mreturn\u001b[39;00m \u001b[43mreduce\u001b[49m\u001b[43m(\u001b[49m\u001b[43mbinop\u001b[49m\u001b[43m,\u001b[49m\u001b[43m \u001b[49m\u001b[38;5;28;43miter\u001b[39;49m\u001b[43m(\u001b[49m\u001b[38;5;28;43mself\u001b[39;49m\u001b[38;5;241;43m.\u001b[39;49m\u001b[43mrun\u001b[49m\u001b[43m(\u001b[49m\u001b[43m)\u001b[49m\u001b[43m)\u001b[49m\u001b[43m,\u001b[49m\u001b[43m \u001b[49m\u001b[43minit\u001b[49m\u001b[43m)\u001b[49m\n",
      "File \u001b[0;32m/localenv/erikson/anaconda/envs/methylation/lib/python3.12/site-packages/cooler/parallel.py:58\u001b[0m, in \u001b[0;36mapply_pipeline\u001b[0;34m(funcs, prepare, get, key)\u001b[0m\n\u001b[1;32m     52\u001b[0m \u001b[38;5;28;01mdef\u001b[39;00m \u001b[38;5;21mapply_pipeline\u001b[39m(\n\u001b[1;32m     53\u001b[0m     funcs: \u001b[38;5;28mlist\u001b[39m[Callable],\n\u001b[1;32m     54\u001b[0m     prepare: Callable[[Any], Any] \u001b[38;5;241m|\u001b[39m \u001b[38;5;28;01mNone\u001b[39;00m,\n\u001b[1;32m     55\u001b[0m     get: Callable[[KeyType], Any],\n\u001b[1;32m     56\u001b[0m     key: KeyType,\n\u001b[1;32m     57\u001b[0m ) \u001b[38;5;241m-\u001b[39m\u001b[38;5;241m>\u001b[39m Any:\n\u001b[0;32m---> 58\u001b[0m     chunk \u001b[38;5;241m=\u001b[39m \u001b[43mget\u001b[49m\u001b[43m(\u001b[49m\u001b[43mkey\u001b[49m\u001b[43m)\u001b[49m\n\u001b[1;32m     59\u001b[0m     \u001b[38;5;28;01mif\u001b[39;00m prepare \u001b[38;5;129;01mis\u001b[39;00m \u001b[38;5;129;01mnot\u001b[39;00m \u001b[38;5;28;01mNone\u001b[39;00m:\n\u001b[1;32m     60\u001b[0m         data \u001b[38;5;241m=\u001b[39m prepare(chunk)\n",
      "File \u001b[0;32m/localenv/erikson/anaconda/envs/methylation/lib/python3.12/site-packages/cooler/parallel.py:299\u001b[0m, in \u001b[0;36mchunkgetter.__call__\u001b[0;34m(self, span)\u001b[0m\n\u001b[1;32m    297\u001b[0m         \u001b[38;5;28;01mif\u001b[39;00m \u001b[38;5;28mself\u001b[39m\u001b[38;5;241m.\u001b[39minclude_bins:\n\u001b[1;32m    298\u001b[0m             chunk[\u001b[38;5;124m\"\u001b[39m\u001b[38;5;124mbins\u001b[39m\u001b[38;5;124m\"\u001b[39m] \u001b[38;5;241m=\u001b[39m get(grp[\u001b[38;5;124m\"\u001b[39m\u001b[38;5;124mbins\u001b[39m\u001b[38;5;124m\"\u001b[39m], as_dict\u001b[38;5;241m=\u001b[39m\u001b[38;5;28;01mTrue\u001b[39;00m)\n\u001b[0;32m--> 299\u001b[0m         chunk[\u001b[38;5;124m\"\u001b[39m\u001b[38;5;124mpixels\u001b[39m\u001b[38;5;124m\"\u001b[39m] \u001b[38;5;241m=\u001b[39m \u001b[43mget\u001b[49m\u001b[43m(\u001b[49m\u001b[43mgrp\u001b[49m\u001b[43m[\u001b[49m\u001b[38;5;124;43m\"\u001b[39;49m\u001b[38;5;124;43mpixels\u001b[39;49m\u001b[38;5;124;43m\"\u001b[39;49m\u001b[43m]\u001b[49m\u001b[43m,\u001b[49m\u001b[43m \u001b[49m\u001b[43mlo\u001b[49m\u001b[43m,\u001b[49m\u001b[43m \u001b[49m\u001b[43mhi\u001b[49m\u001b[43m,\u001b[49m\u001b[43m \u001b[49m\u001b[43mas_dict\u001b[49m\u001b[38;5;241;43m=\u001b[39;49m\u001b[38;5;28;43;01mTrue\u001b[39;49;00m\u001b[43m)\u001b[49m\n\u001b[1;32m    300\u001b[0m \u001b[38;5;28;01mfinally\u001b[39;00m:\n\u001b[1;32m    301\u001b[0m     \u001b[38;5;28;01mif\u001b[39;00m \u001b[38;5;28mself\u001b[39m\u001b[38;5;241m.\u001b[39muse_lock:\n",
      "File \u001b[0;32m/localenv/erikson/anaconda/envs/methylation/lib/python3.12/site-packages/cooler/core/_tableops.py:108\u001b[0m, in \u001b[0;36mget\u001b[0;34m(grp, lo, hi, fields, convert_enum, as_dict)\u001b[0m\n\u001b[1;32m    106\u001b[0m         data[field] \u001b[38;5;241m=\u001b[39m dset[lo:hi]\u001b[38;5;241m.\u001b[39mastype(\u001b[38;5;124m\"\u001b[39m\u001b[38;5;124mU\u001b[39m\u001b[38;5;124m\"\u001b[39m)\n\u001b[1;32m    107\u001b[0m     \u001b[38;5;28;01melse\u001b[39;00m:\n\u001b[0;32m--> 108\u001b[0m         data[field] \u001b[38;5;241m=\u001b[39m \u001b[43mdset\u001b[49m\u001b[43m[\u001b[49m\u001b[43mlo\u001b[49m\u001b[43m:\u001b[49m\u001b[43mhi\u001b[49m\u001b[43m]\u001b[49m\n\u001b[1;32m    110\u001b[0m \u001b[38;5;28;01mif\u001b[39;00m as_dict:\n\u001b[1;32m    111\u001b[0m     \u001b[38;5;28;01mreturn\u001b[39;00m data\n",
      "File \u001b[0;32mh5py/_objects.pyx:54\u001b[0m, in \u001b[0;36mh5py._objects.with_phil.wrapper\u001b[0;34m()\u001b[0m\n",
      "File \u001b[0;32mh5py/_objects.pyx:55\u001b[0m, in \u001b[0;36mh5py._objects.with_phil.wrapper\u001b[0;34m()\u001b[0m\n",
      "File \u001b[0;32m/localenv/erikson/anaconda/envs/methylation/lib/python3.12/site-packages/h5py/_hl/dataset.py:758\u001b[0m, in \u001b[0;36mDataset.__getitem__\u001b[0;34m(self, args, new_dtype)\u001b[0m\n\u001b[1;32m    756\u001b[0m \u001b[38;5;28;01mif\u001b[39;00m \u001b[38;5;28mself\u001b[39m\u001b[38;5;241m.\u001b[39m_fast_read_ok \u001b[38;5;129;01mand\u001b[39;00m (new_dtype \u001b[38;5;129;01mis\u001b[39;00m \u001b[38;5;28;01mNone\u001b[39;00m):\n\u001b[1;32m    757\u001b[0m     \u001b[38;5;28;01mtry\u001b[39;00m:\n\u001b[0;32m--> 758\u001b[0m         \u001b[38;5;28;01mreturn\u001b[39;00m \u001b[38;5;28;43mself\u001b[39;49m\u001b[38;5;241;43m.\u001b[39;49m\u001b[43m_fast_reader\u001b[49m\u001b[38;5;241;43m.\u001b[39;49m\u001b[43mread\u001b[49m\u001b[43m(\u001b[49m\u001b[43margs\u001b[49m\u001b[43m)\u001b[49m\n\u001b[1;32m    759\u001b[0m     \u001b[38;5;28;01mexcept\u001b[39;00m \u001b[38;5;167;01mTypeError\u001b[39;00m:\n\u001b[1;32m    760\u001b[0m         \u001b[38;5;28;01mpass\u001b[39;00m  \u001b[38;5;66;03m# Fall back to Python read pathway below\u001b[39;00m\n",
      "\u001b[0;31mKeyboardInterrupt\u001b[0m: "
     ]
    }
   ],
   "source": [
    "import cooler\n",
    "import matplotlib.pyplot as plt\n",
    "from matplotlib.colors import LogNorm\n",
    "\n",
    "# Load the mcool file\n",
    "mcool_file = '/data/processing2/erikson_pipegrp/methylation/NlaIII_run02_GRCm38_unphased.matrix.mcool'\n",
    "c = cooler.Cooler(mcool_file + '::resolutions/10000')  # Adjust the resolution as needed\n",
    "\n",
    "cooler.balance_cooler(c)\n",
    "\n",
    "# Get the bins corresponding to chromosome 1\n",
    "chrom_bins = c.bins().fetch('1')\n",
    "\n",
    "# Extract the Hi-C matrix for chromosome 1\n",
    "start_bin = chrom_bins.index[0]\n",
    "end_bin = chrom_bins.index[-1] + 1\n",
    "matrix = c.matrix(balance=True)[start_bin:end_bin, start_bin:end_bin]\n",
    "\n",
    "# Plot the Hi-C matrix for chromosome 1\n",
    "plt.imshow(matrix, cmap='Reds', norm=LogNorm())\n",
    "plt.colorbar(label='Contact frequency')\n",
    "plt.title('Hi-C Contact Matrix for Chromosome 1')\n",
    "plt.xlabel('Genomic bin')\n",
    "plt.ylabel('Genomic bin')\n",
    "plt.show()"
   ]
  },
  {
   "cell_type": "code",
   "execution_count": 17,
   "id": "ee14f932-c79a-48a2-806a-658ea6a41c78",
   "metadata": {},
   "outputs": [
    {
     "name": "stdout",
     "output_type": "stream",
     "text": [
      "cooler balanced\n"
     ]
    },
    {
     "ename": "AttributeError",
     "evalue": "'tuple' object has no attribute 'bins'",
     "output_type": "error",
     "traceback": [
      "\u001b[0;31m---------------------------------------------------------------------------\u001b[0m",
      "\u001b[0;31mAttributeError\u001b[0m                            Traceback (most recent call last)",
      "Cell \u001b[0;32mIn[17], line 13\u001b[0m\n\u001b[1;32m     11\u001b[0m \u001b[38;5;28mprint\u001b[39m(\u001b[38;5;124m\"\u001b[39m\u001b[38;5;124mcooler balanced\u001b[39m\u001b[38;5;124m\"\u001b[39m)\n\u001b[1;32m     12\u001b[0m \u001b[38;5;66;03m# Get the bins corresponding to chromosome 1\u001b[39;00m\n\u001b[0;32m---> 13\u001b[0m chrom_bins \u001b[38;5;241m=\u001b[39m \u001b[43mc\u001b[49m\u001b[38;5;241;43m.\u001b[39;49m\u001b[43mbins\u001b[49m()\u001b[38;5;241m.\u001b[39mfetch(\u001b[38;5;124m'\u001b[39m\u001b[38;5;124m19\u001b[39m\u001b[38;5;124m'\u001b[39m)\n\u001b[1;32m     14\u001b[0m \u001b[38;5;28mprint\u001b[39m(\u001b[38;5;124m\"\u001b[39m\u001b[38;5;124mchr19 extracted\u001b[39m\u001b[38;5;124m\"\u001b[39m)\n\u001b[1;32m     16\u001b[0m \u001b[38;5;66;03m# Extract the Hi-C matrix for chromosome 1\u001b[39;00m\n",
      "\u001b[0;31mAttributeError\u001b[0m: 'tuple' object has no attribute 'bins'"
     ]
    }
   ],
   "source": [
    "import cooler\n",
    "import matplotlib.pyplot as plt\n",
    "from matplotlib.colors import LogNorm\n",
    "\n",
    "# Load the mcool file\n",
    "mcool_file = '/data/processing2/erikson_pipegrp/methylation/NlaIII_run02_GRCm38_unphased.matrix.mcool'\n",
    "c = cooler.Cooler(mcool_file + '::resolutions/10000')  # Adjust the resolution as needed\n",
    "\n",
    "cooler.balance_cooler(c)\n",
    "\n",
    "print(\"cooler balanced\")\n",
    "# Get the bins corresponding to chromosome 1\n",
    "chrom_bins = c.bins().fetch('19')\n",
    "print(\"chr19 extracted\")\n",
    "\n",
    "# Extract the Hi-C matrix for chromosome 1\n",
    "start_bin = chrom_bins.index[0]\n",
    "end_bin = chrom_bins.index[-1] + 1\n",
    "matrix = c.matrix(balance=True)[start_bin:end_bin, start_bin:end_bin]\n",
    "print(\"plotting now\")\n",
    "# Plot the Hi-C matrix for chromosome 1\n",
    "plt.imshow(matrix, cmap='Reds', norm=LogNorm())\n",
    "plt.colorbar(label='Contact frequency')\n",
    "plt.title('Hi-C Contact Matrix for Chromosome 1')\n",
    "plt.xlabel('Genomic bin')\n",
    "plt.ylabel('Genomic bin')\n",
    "plt.show()"
   ]
  },
  {
   "cell_type": "code",
   "execution_count": 22,
   "id": "272e263d-8b03-48b3-9ecb-32869010bbb8",
   "metadata": {
    "tags": []
   },
   "outputs": [
    {
     "name": "stdout",
     "output_type": "stream",
     "text": [
      "cooler balanced\n",
      "Failed to add balancing weights.\n",
      "chr9 extracted\n"
     ]
    },
    {
     "ename": "ValueError",
     "evalue": "No column 'bins/weight'found. Use ``cooler.balance_cooler`` to calculate balancing weights or set balance=False.",
     "output_type": "error",
     "traceback": [
      "\u001b[0;31m---------------------------------------------------------------------------\u001b[0m",
      "\u001b[0;31mValueError\u001b[0m                                Traceback (most recent call last)",
      "Cell \u001b[0;32mIn[22], line 26\u001b[0m\n\u001b[1;32m     24\u001b[0m start_bin \u001b[38;5;241m=\u001b[39m chrom_bins\u001b[38;5;241m.\u001b[39mindex[\u001b[38;5;241m0\u001b[39m]\n\u001b[1;32m     25\u001b[0m end_bin \u001b[38;5;241m=\u001b[39m chrom_bins\u001b[38;5;241m.\u001b[39mindex[\u001b[38;5;241m-\u001b[39m\u001b[38;5;241m1\u001b[39m] \u001b[38;5;241m+\u001b[39m \u001b[38;5;241m1\u001b[39m\n\u001b[0;32m---> 26\u001b[0m matrix \u001b[38;5;241m=\u001b[39m \u001b[43mc\u001b[49m\u001b[38;5;241;43m.\u001b[39;49m\u001b[43mmatrix\u001b[49m\u001b[43m(\u001b[49m\u001b[43mbalance\u001b[49m\u001b[38;5;241;43m=\u001b[39;49m\u001b[38;5;28;43;01mTrue\u001b[39;49;00m\u001b[43m)\u001b[49m\u001b[43m[\u001b[49m\u001b[43mstart_bin\u001b[49m\u001b[43m:\u001b[49m\u001b[43mend_bin\u001b[49m\u001b[43m,\u001b[49m\u001b[43m \u001b[49m\u001b[43mstart_bin\u001b[49m\u001b[43m:\u001b[49m\u001b[43mend_bin\u001b[49m\u001b[43m]\u001b[49m\n\u001b[1;32m     27\u001b[0m \u001b[38;5;28mprint\u001b[39m(\u001b[38;5;124m\"\u001b[39m\u001b[38;5;124mplotting now\u001b[39m\u001b[38;5;124m\"\u001b[39m)\n\u001b[1;32m     28\u001b[0m \u001b[38;5;66;03m# Plot the Hi-C matrix for chromosome 1\u001b[39;00m\n",
      "File \u001b[0;32m/localenv/erikson/anaconda/envs/methylation/lib/python3.12/site-packages/cooler/core/_selectors.py:181\u001b[0m, in \u001b[0;36mRangeSelector2D.__getitem__\u001b[0;34m(self, key)\u001b[0m\n\u001b[1;32m    179\u001b[0m i0, i1 \u001b[38;5;241m=\u001b[39m \u001b[38;5;28mself\u001b[39m\u001b[38;5;241m.\u001b[39m_process_slice(s1, \u001b[38;5;28mself\u001b[39m\u001b[38;5;241m.\u001b[39m_shape[\u001b[38;5;241m0\u001b[39m])\n\u001b[1;32m    180\u001b[0m j0, j1 \u001b[38;5;241m=\u001b[39m \u001b[38;5;28mself\u001b[39m\u001b[38;5;241m.\u001b[39m_process_slice(s2, \u001b[38;5;28mself\u001b[39m\u001b[38;5;241m.\u001b[39m_shape[\u001b[38;5;241m1\u001b[39m])\n\u001b[0;32m--> 181\u001b[0m \u001b[38;5;28;01mreturn\u001b[39;00m \u001b[38;5;28;43mself\u001b[39;49m\u001b[38;5;241;43m.\u001b[39;49m\u001b[43m_slice\u001b[49m\u001b[43m(\u001b[49m\u001b[38;5;28;43mself\u001b[39;49m\u001b[38;5;241;43m.\u001b[39;49m\u001b[43mfield\u001b[49m\u001b[43m,\u001b[49m\u001b[43m \u001b[49m\u001b[43mi0\u001b[49m\u001b[43m,\u001b[49m\u001b[43m \u001b[49m\u001b[43mi1\u001b[49m\u001b[43m,\u001b[49m\u001b[43m \u001b[49m\u001b[43mj0\u001b[49m\u001b[43m,\u001b[49m\u001b[43m \u001b[49m\u001b[43mj1\u001b[49m\u001b[43m)\u001b[49m\n",
      "File \u001b[0;32m/localenv/erikson/anaconda/envs/methylation/lib/python3.12/site-packages/cooler/api.py:373\u001b[0m, in \u001b[0;36mCooler.matrix.<locals>._slice\u001b[0;34m(field, i0, i1, j0, j1)\u001b[0m\n\u001b[1;32m    371\u001b[0m \u001b[38;5;28;01mwith\u001b[39;00m open_hdf5(\u001b[38;5;28mself\u001b[39m\u001b[38;5;241m.\u001b[39mstore, \u001b[38;5;241m*\u001b[39m\u001b[38;5;241m*\u001b[39m\u001b[38;5;28mself\u001b[39m\u001b[38;5;241m.\u001b[39mopen_kws) \u001b[38;5;28;01mas\u001b[39;00m h5:\n\u001b[1;32m    372\u001b[0m     grp \u001b[38;5;241m=\u001b[39m h5[\u001b[38;5;28mself\u001b[39m\u001b[38;5;241m.\u001b[39mroot]\n\u001b[0;32m--> 373\u001b[0m     \u001b[38;5;28;01mreturn\u001b[39;00m \u001b[43mmatrix\u001b[49m\u001b[43m(\u001b[49m\n\u001b[1;32m    374\u001b[0m \u001b[43m        \u001b[49m\u001b[43mgrp\u001b[49m\u001b[43m,\u001b[49m\n\u001b[1;32m    375\u001b[0m \u001b[43m        \u001b[49m\u001b[43mi0\u001b[49m\u001b[43m,\u001b[49m\n\u001b[1;32m    376\u001b[0m \u001b[43m        \u001b[49m\u001b[43mi1\u001b[49m\u001b[43m,\u001b[49m\n\u001b[1;32m    377\u001b[0m \u001b[43m        \u001b[49m\u001b[43mj0\u001b[49m\u001b[43m,\u001b[49m\n\u001b[1;32m    378\u001b[0m \u001b[43m        \u001b[49m\u001b[43mj1\u001b[49m\u001b[43m,\u001b[49m\n\u001b[1;32m    379\u001b[0m \u001b[43m        \u001b[49m\u001b[43mfield\u001b[49m\u001b[43m,\u001b[49m\n\u001b[1;32m    380\u001b[0m \u001b[43m        \u001b[49m\u001b[43mbalance\u001b[49m\u001b[43m,\u001b[49m\n\u001b[1;32m    381\u001b[0m \u001b[43m        \u001b[49m\u001b[43msparse\u001b[49m\u001b[43m,\u001b[49m\n\u001b[1;32m    382\u001b[0m \u001b[43m        \u001b[49m\u001b[43mas_pixels\u001b[49m\u001b[43m,\u001b[49m\n\u001b[1;32m    383\u001b[0m \u001b[43m        \u001b[49m\u001b[43mjoin\u001b[49m\u001b[43m,\u001b[49m\n\u001b[1;32m    384\u001b[0m \u001b[43m        \u001b[49m\u001b[43mignore_index\u001b[49m\u001b[43m,\u001b[49m\n\u001b[1;32m    385\u001b[0m \u001b[43m        \u001b[49m\u001b[43mdivisive_weights\u001b[49m\u001b[43m,\u001b[49m\n\u001b[1;32m    386\u001b[0m \u001b[43m        \u001b[49m\u001b[43mchunksize\u001b[49m\u001b[43m,\u001b[49m\n\u001b[1;32m    387\u001b[0m \u001b[43m        \u001b[49m\u001b[38;5;28;43mself\u001b[39;49m\u001b[38;5;241;43m.\u001b[39;49m\u001b[43m_is_symm_upper\u001b[49m\u001b[43m,\u001b[49m\n\u001b[1;32m    388\u001b[0m \u001b[43m    \u001b[49m\u001b[43m)\u001b[49m\n",
      "File \u001b[0;32m/localenv/erikson/anaconda/envs/methylation/lib/python3.12/site-packages/cooler/api.py:736\u001b[0m, in \u001b[0;36mmatrix\u001b[0;34m(h5, i0, i1, j0, j1, field, balance, sparse, as_pixels, join, ignore_index, divisive_weights, chunksize, fill_lower)\u001b[0m\n\u001b[1;32m    733\u001b[0m     name \u001b[38;5;241m=\u001b[39m \u001b[38;5;124m\"\u001b[39m\u001b[38;5;124mweight\u001b[39m\u001b[38;5;124m\"\u001b[39m\n\u001b[1;32m    735\u001b[0m \u001b[38;5;28;01mif\u001b[39;00m balance \u001b[38;5;129;01mand\u001b[39;00m name \u001b[38;5;129;01mnot\u001b[39;00m \u001b[38;5;129;01min\u001b[39;00m h5[\u001b[38;5;124m\"\u001b[39m\u001b[38;5;124mbins\u001b[39m\u001b[38;5;124m\"\u001b[39m]:\n\u001b[0;32m--> 736\u001b[0m     \u001b[38;5;28;01mraise\u001b[39;00m \u001b[38;5;167;01mValueError\u001b[39;00m(\n\u001b[1;32m    737\u001b[0m         \u001b[38;5;124mf\u001b[39m\u001b[38;5;124m\"\u001b[39m\u001b[38;5;124mNo column \u001b[39m\u001b[38;5;124m'\u001b[39m\u001b[38;5;124mbins/\u001b[39m\u001b[38;5;132;01m{\u001b[39;00mname\u001b[38;5;132;01m}\u001b[39;00m\u001b[38;5;124m'\u001b[39m\u001b[38;5;124m\"\u001b[39m\n\u001b[1;32m    738\u001b[0m         \u001b[38;5;241m+\u001b[39m \u001b[38;5;124m\"\u001b[39m\u001b[38;5;124mfound. Use ``cooler.balance_cooler`` to \u001b[39m\u001b[38;5;124m\"\u001b[39m\n\u001b[1;32m    739\u001b[0m         \u001b[38;5;241m+\u001b[39m \u001b[38;5;124m\"\u001b[39m\u001b[38;5;124mcalculate balancing weights or set balance=False.\u001b[39m\u001b[38;5;124m\"\u001b[39m\n\u001b[1;32m    740\u001b[0m     )\n\u001b[1;32m    742\u001b[0m reader \u001b[38;5;241m=\u001b[39m CSRReader(h5[\u001b[38;5;124m\"\u001b[39m\u001b[38;5;124mpixels\u001b[39m\u001b[38;5;124m\"\u001b[39m], h5[\u001b[38;5;124m\"\u001b[39m\u001b[38;5;124mindexes/bin1_offset\u001b[39m\u001b[38;5;124m\"\u001b[39m][:])\n\u001b[1;32m    744\u001b[0m \u001b[38;5;28;01mif\u001b[39;00m as_pixels:\n\u001b[1;32m    745\u001b[0m     \u001b[38;5;66;03m# The historical behavior for as_pixels is to return only explicitly stored\u001b[39;00m\n\u001b[1;32m    746\u001b[0m     \u001b[38;5;66;03m# pixels so we ignore the ``fill_lower`` parameter in this case.\u001b[39;00m\n",
      "\u001b[0;31mValueError\u001b[0m: No column 'bins/weight'found. Use ``cooler.balance_cooler`` to calculate balancing weights or set balance=False."
     ]
    }
   ],
   "source": [
    "import cooler\n",
    "import matplotlib.pyplot as plt\n",
    "from matplotlib.colors import LogNorm\n",
    "\n",
    "# Load the mcool file\n",
    "cooler_file = '/data/processing2/erikson_pipegrp/methylation/chr1.cool'\n",
    "c = cooler.Cooler(cooler_file+ '::resolutions/10000')  # Adjust the resolution as needed\n",
    "\n",
    "cooler.balance_cooler(c)\n",
    "\n",
    "print(\"cooler balanced\")\n",
    "\n",
    "if 'weight' in c.bins().columns:\n",
    "    print(\"Balancing weights added successfully.\")\n",
    "else:\n",
    "    print(\"Failed to add balancing weights.\")\n",
    "\n",
    "\n",
    "# Get the bins corresponding to chromosome 1\n",
    "chrom_bins = c.bins().fetch('1')\n",
    "print(\"chr9 extracted\")\n",
    "\n",
    "# Extract the Hi-C matrix for chromosome 1\n",
    "start_bin = chrom_bins.index[0]\n",
    "end_bin = chrom_bins.index[-1] + 1\n",
    "matrix = c.matrix(balance=True)[start_bin:end_bin, start_bin:end_bin]\n",
    "print(\"plotting now\")\n",
    "# Plot the Hi-C matrix for chromosome 1\n",
    "plt.imshow(matrix, cmap='Reds', norm=LogNorm())\n",
    "plt.colorbar(label='Contact frequency')\n",
    "plt.title('Hi-C Contact Matrix for Chromosome 1')\n",
    "plt.xlabel('Genomic bin')\n",
    "plt.ylabel('Genomic bin')\n",
    "plt.show()"
   ]
  },
  {
   "cell_type": "code",
   "execution_count": null,
   "id": "246d0833-7d9b-44c4-9e5c-b0ccfc097e67",
   "metadata": {
    "tags": []
   },
   "outputs": [],
   "source": [
    "import cooler\n",
    "\n",
    "# Load the .mcool file\n",
    "c = cooler.Cooler(\"/data/processing2/erikson_pipegrp/methylation/chr1.cool\")\n",
    "\n",
    "# Get the resolutions\n",
    "resolutions = c.bins()[:]\n",
    "print(resolutions)"
   ]
  },
  {
   "cell_type": "code",
   "execution_count": 23,
   "id": "882d831a-242d-482b-bd62-c7325fdbb567",
   "metadata": {
    "tags": []
   },
   "outputs": [
    {
     "ename": "SyntaxError",
     "evalue": "invalid syntax (2161435784.py, line 1)",
     "output_type": "error",
     "traceback": [
      "\u001b[0;36m  Cell \u001b[0;32mIn[23], line 1\u001b[0;36m\u001b[0m\n\u001b[0;31m    jupyter labextension install @jupyter-widgets/jupyterlab-manager\u001b[0m\n\u001b[0m            ^\u001b[0m\n\u001b[0;31mSyntaxError\u001b[0m\u001b[0;31m:\u001b[0m invalid syntax\n"
     ]
    }
   ],
   "source": [
    "pip install jupyter higlass-python"
   ]
  },
  {
   "cell_type": "code",
   "execution_count": 24,
   "id": "6998b929-ced8-444a-ba84-f3c8cd7fe21c",
   "metadata": {
    "tags": []
   },
   "outputs": [
    {
     "name": "stdout",
     "output_type": "stream",
     "text": [
      "Defaulting to user installation because normal site-packages is not writeable\n",
      "Requirement already satisfied: higlass-python in /home/erikson/.local/lib/python3.10/site-packages (1.1.0)\n",
      "Requirement already satisfied: higlass-schema>=0.0.6 in /home/erikson/.local/lib/python3.10/site-packages (from higlass-python) (0.1.0)\n",
      "Requirement already satisfied: servir>=0.0.5 in /home/erikson/.local/lib/python3.10/site-packages (from higlass-python) (0.2.1)\n",
      "Requirement already satisfied: jinja2 in /home/erikson/.local/lib/python3.10/site-packages (from higlass-python) (3.1.4)\n",
      "Requirement already satisfied: jupyter-server-proxy>=3.0 in /home/erikson/.local/lib/python3.10/site-packages (from higlass-python) (4.4.0)\n",
      "Requirement already satisfied: anywidget>=0.6.3 in /home/erikson/.local/lib/python3.10/site-packages (from higlass-python) (0.9.13)\n",
      "Requirement already satisfied: typing-extensions>=4.2.0 in /home/erikson/.local/lib/python3.10/site-packages (from anywidget>=0.6.3->higlass-python) (4.12.2)\n",
      "Requirement already satisfied: ipywidgets>=7.6.0 in /home/erikson/.local/lib/python3.10/site-packages (from anywidget>=0.6.3->higlass-python) (8.1.5)\n",
      "Requirement already satisfied: psygnal>=0.8.1 in /home/erikson/.local/lib/python3.10/site-packages (from anywidget>=0.6.3->higlass-python) (0.11.1)\n",
      "Requirement already satisfied: rich>=13.3.3 in /home/erikson/.local/lib/python3.10/site-packages (from higlass-schema>=0.0.6->higlass-python) (13.9.1)\n",
      "Requirement already satisfied: pydantic<2.0,>=1.10 in /home/erikson/.local/lib/python3.10/site-packages (from higlass-schema>=0.0.6->higlass-python) (1.10.18)\n",
      "Requirement already satisfied: traitlets>=5.1.0 in /home/erikson/.local/lib/python3.10/site-packages (from jupyter-server-proxy>=3.0->higlass-python) (5.14.3)\n",
      "Requirement already satisfied: tornado>=6.1.0 in /home/erikson/.local/lib/python3.10/site-packages (from jupyter-server-proxy>=3.0->higlass-python) (6.4.1)\n",
      "Requirement already satisfied: aiohttp in /home/erikson/.local/lib/python3.10/site-packages (from jupyter-server-proxy>=3.0->higlass-python) (3.10.8)\n",
      "Requirement already satisfied: simpervisor>=1.0.0 in /home/erikson/.local/lib/python3.10/site-packages (from jupyter-server-proxy>=3.0->higlass-python) (1.0.0)\n",
      "Requirement already satisfied: jupyter-server>=1.24.0 in /home/erikson/.local/lib/python3.10/site-packages (from jupyter-server-proxy>=3.0->higlass-python) (2.14.2)\n",
      "Requirement already satisfied: uvicorn>=0.21.1 in /home/erikson/.local/lib/python3.10/site-packages (from servir>=0.0.5->higlass-python) (0.31.0)\n",
      "Requirement already satisfied: portpicker in /home/erikson/.local/lib/python3.10/site-packages (from servir>=0.0.5->higlass-python) (1.6.0)\n",
      "Requirement already satisfied: starlette>=0.35 in /home/erikson/.local/lib/python3.10/site-packages (from servir>=0.0.5->higlass-python) (0.39.2)\n",
      "Requirement already satisfied: MarkupSafe>=2.0 in /home/erikson/.local/lib/python3.10/site-packages (from jinja2->higlass-python) (2.1.5)\n",
      "Requirement already satisfied: ipython>=6.1.0 in /home/erikson/.local/lib/python3.10/site-packages (from ipywidgets>=7.6.0->anywidget>=0.6.3->higlass-python) (8.26.0)\n",
      "Requirement already satisfied: widgetsnbextension~=4.0.12 in /home/erikson/.local/lib/python3.10/site-packages (from ipywidgets>=7.6.0->anywidget>=0.6.3->higlass-python) (4.0.13)\n",
      "Requirement already satisfied: comm>=0.1.3 in /home/erikson/.local/lib/python3.10/site-packages (from ipywidgets>=7.6.0->anywidget>=0.6.3->higlass-python) (0.2.2)\n",
      "Requirement already satisfied: jupyterlab-widgets~=3.0.12 in /home/erikson/.local/lib/python3.10/site-packages (from ipywidgets>=7.6.0->anywidget>=0.6.3->higlass-python) (3.0.13)\n",
      "Requirement already satisfied: pyzmq>=24 in /home/erikson/.local/lib/python3.10/site-packages (from jupyter-server>=1.24.0->jupyter-server-proxy>=3.0->higlass-python) (26.0.3)\n",
      "Requirement already satisfied: nbformat>=5.3.0 in /home/erikson/.local/lib/python3.10/site-packages (from jupyter-server>=1.24.0->jupyter-server-proxy>=3.0->higlass-python) (5.10.4)\n",
      "Requirement already satisfied: jupyter-core!=5.0.*,>=4.12 in /home/erikson/.local/lib/python3.10/site-packages (from jupyter-server>=1.24.0->jupyter-server-proxy>=3.0->higlass-python) (5.7.2)\n",
      "Requirement already satisfied: jupyter-client>=7.4.4 in /home/erikson/.local/lib/python3.10/site-packages (from jupyter-server>=1.24.0->jupyter-server-proxy>=3.0->higlass-python) (8.6.2)\n",
      "Requirement already satisfied: terminado>=0.8.3 in /home/erikson/.local/lib/python3.10/site-packages (from jupyter-server>=1.24.0->jupyter-server-proxy>=3.0->higlass-python) (0.18.1)\n",
      "Requirement already satisfied: jupyter-server-terminals>=0.4.4 in /home/erikson/.local/lib/python3.10/site-packages (from jupyter-server>=1.24.0->jupyter-server-proxy>=3.0->higlass-python) (0.5.3)\n",
      "Requirement already satisfied: anyio>=3.1.0 in /home/erikson/.local/lib/python3.10/site-packages (from jupyter-server>=1.24.0->jupyter-server-proxy>=3.0->higlass-python) (4.6.0)\n",
      "Requirement already satisfied: nbconvert>=6.4.4 in /home/erikson/.local/lib/python3.10/site-packages (from jupyter-server>=1.24.0->jupyter-server-proxy>=3.0->higlass-python) (7.16.4)\n",
      "Requirement already satisfied: packaging>=22.0 in /home/erikson/.local/lib/python3.10/site-packages (from jupyter-server>=1.24.0->jupyter-server-proxy>=3.0->higlass-python) (24.1)\n",
      "Requirement already satisfied: argon2-cffi>=21.1 in /home/erikson/.local/lib/python3.10/site-packages (from jupyter-server>=1.24.0->jupyter-server-proxy>=3.0->higlass-python) (23.1.0)\n",
      "Requirement already satisfied: websocket-client>=1.7 in /home/erikson/.local/lib/python3.10/site-packages (from jupyter-server>=1.24.0->jupyter-server-proxy>=3.0->higlass-python) (1.8.0)\n",
      "Requirement already satisfied: overrides>=5.0 in /home/erikson/.local/lib/python3.10/site-packages (from jupyter-server>=1.24.0->jupyter-server-proxy>=3.0->higlass-python) (7.7.0)\n",
      "Requirement already satisfied: jupyter-events>=0.9.0 in /home/erikson/.local/lib/python3.10/site-packages (from jupyter-server>=1.24.0->jupyter-server-proxy>=3.0->higlass-python) (0.10.0)\n",
      "Requirement already satisfied: prometheus-client>=0.9 in /home/erikson/.local/lib/python3.10/site-packages (from jupyter-server>=1.24.0->jupyter-server-proxy>=3.0->higlass-python) (0.21.0)\n",
      "Requirement already satisfied: send2trash>=1.8.2 in /home/erikson/.local/lib/python3.10/site-packages (from jupyter-server>=1.24.0->jupyter-server-proxy>=3.0->higlass-python) (1.8.3)\n",
      "Requirement already satisfied: markdown-it-py>=2.2.0 in /home/erikson/.local/lib/python3.10/site-packages (from rich>=13.3.3->higlass-schema>=0.0.6->higlass-python) (3.0.0)\n",
      "Requirement already satisfied: pygments<3.0.0,>=2.13.0 in /home/erikson/.local/lib/python3.10/site-packages (from rich>=13.3.3->higlass-schema>=0.0.6->higlass-python) (2.18.0)\n",
      "Requirement already satisfied: h11>=0.8 in /home/erikson/.local/lib/python3.10/site-packages (from uvicorn>=0.21.1->servir>=0.0.5->higlass-python) (0.14.0)\n",
      "Requirement already satisfied: click>=7.0 in /home/erikson/.local/lib/python3.10/site-packages (from uvicorn>=0.21.1->servir>=0.0.5->higlass-python) (8.1.7)\n",
      "Requirement already satisfied: attrs>=17.3.0 in /home/erikson/.local/lib/python3.10/site-packages (from aiohttp->jupyter-server-proxy>=3.0->higlass-python) (24.2.0)\n",
      "Requirement already satisfied: async-timeout<5.0,>=4.0 in /home/erikson/.local/lib/python3.10/site-packages (from aiohttp->jupyter-server-proxy>=3.0->higlass-python) (4.0.3)\n",
      "Requirement already satisfied: frozenlist>=1.1.1 in /home/erikson/.local/lib/python3.10/site-packages (from aiohttp->jupyter-server-proxy>=3.0->higlass-python) (1.4.1)\n",
      "Requirement already satisfied: yarl<2.0,>=1.12.0 in /home/erikson/.local/lib/python3.10/site-packages (from aiohttp->jupyter-server-proxy>=3.0->higlass-python) (1.13.1)\n",
      "Requirement already satisfied: aiohappyeyeballs>=2.3.0 in /home/erikson/.local/lib/python3.10/site-packages (from aiohttp->jupyter-server-proxy>=3.0->higlass-python) (2.4.3)\n",
      "Requirement already satisfied: aiosignal>=1.1.2 in /home/erikson/.local/lib/python3.10/site-packages (from aiohttp->jupyter-server-proxy>=3.0->higlass-python) (1.3.1)\n",
      "Requirement already satisfied: multidict<7.0,>=4.5 in /home/erikson/.local/lib/python3.10/site-packages (from aiohttp->jupyter-server-proxy>=3.0->higlass-python) (6.1.0)\n",
      "Requirement already satisfied: psutil in /home/erikson/.local/lib/python3.10/site-packages (from portpicker->servir>=0.0.5->higlass-python) (6.0.0)\n",
      "Requirement already satisfied: sniffio>=1.1 in /home/erikson/.local/lib/python3.10/site-packages (from anyio>=3.1.0->jupyter-server>=1.24.0->jupyter-server-proxy>=3.0->higlass-python) (1.3.1)\n",
      "Requirement already satisfied: idna>=2.8 in /home/erikson/.local/lib/python3.10/site-packages (from anyio>=3.1.0->jupyter-server>=1.24.0->jupyter-server-proxy>=3.0->higlass-python) (3.7)\n",
      "Requirement already satisfied: exceptiongroup>=1.0.2 in /home/erikson/.local/lib/python3.10/site-packages (from anyio>=3.1.0->jupyter-server>=1.24.0->jupyter-server-proxy>=3.0->higlass-python) (1.2.1)\n",
      "Requirement already satisfied: argon2-cffi-bindings in /home/erikson/.local/lib/python3.10/site-packages (from argon2-cffi>=21.1->jupyter-server>=1.24.0->jupyter-server-proxy>=3.0->higlass-python) (21.2.0)\n",
      "Requirement already satisfied: prompt-toolkit<3.1.0,>=3.0.41 in /home/erikson/.local/lib/python3.10/site-packages (from ipython>=6.1.0->ipywidgets>=7.6.0->anywidget>=0.6.3->higlass-python) (3.0.47)\n",
      "Requirement already satisfied: stack-data in /home/erikson/.local/lib/python3.10/site-packages (from ipython>=6.1.0->ipywidgets>=7.6.0->anywidget>=0.6.3->higlass-python) (0.6.3)\n",
      "Requirement already satisfied: pexpect>4.3 in /home/erikson/.local/lib/python3.10/site-packages (from ipython>=6.1.0->ipywidgets>=7.6.0->anywidget>=0.6.3->higlass-python) (4.9.0)\n",
      "Requirement already satisfied: jedi>=0.16 in /home/erikson/.local/lib/python3.10/site-packages (from ipython>=6.1.0->ipywidgets>=7.6.0->anywidget>=0.6.3->higlass-python) (0.19.1)\n",
      "Requirement already satisfied: matplotlib-inline in /home/erikson/.local/lib/python3.10/site-packages (from ipython>=6.1.0->ipywidgets>=7.6.0->anywidget>=0.6.3->higlass-python) (0.1.7)\n",
      "Requirement already satisfied: decorator in /home/erikson/.local/lib/python3.10/site-packages (from ipython>=6.1.0->ipywidgets>=7.6.0->anywidget>=0.6.3->higlass-python) (5.1.1)\n",
      "Requirement already satisfied: python-dateutil>=2.8.2 in /home/erikson/.local/lib/python3.10/site-packages (from jupyter-client>=7.4.4->jupyter-server>=1.24.0->jupyter-server-proxy>=3.0->higlass-python) (2.9.0.post0)\n",
      "Requirement already satisfied: platformdirs>=2.5 in /home/erikson/.local/lib/python3.10/site-packages (from jupyter-core!=5.0.*,>=4.12->jupyter-server>=1.24.0->jupyter-server-proxy>=3.0->higlass-python) (4.2.2)\n",
      "Requirement already satisfied: rfc3339-validator in /home/erikson/.local/lib/python3.10/site-packages (from jupyter-events>=0.9.0->jupyter-server>=1.24.0->jupyter-server-proxy>=3.0->higlass-python) (0.1.4)\n",
      "Requirement already satisfied: pyyaml>=5.3 in /home/erikson/.local/lib/python3.10/site-packages (from jupyter-events>=0.9.0->jupyter-server>=1.24.0->jupyter-server-proxy>=3.0->higlass-python) (6.0.2)\n",
      "Requirement already satisfied: referencing in /home/erikson/.local/lib/python3.10/site-packages (from jupyter-events>=0.9.0->jupyter-server>=1.24.0->jupyter-server-proxy>=3.0->higlass-python) (0.35.1)\n",
      "Requirement already satisfied: python-json-logger>=2.0.4 in /home/erikson/.local/lib/python3.10/site-packages (from jupyter-events>=0.9.0->jupyter-server>=1.24.0->jupyter-server-proxy>=3.0->higlass-python) (2.0.7)\n",
      "Requirement already satisfied: rfc3986-validator>=0.1.1 in /home/erikson/.local/lib/python3.10/site-packages (from jupyter-events>=0.9.0->jupyter-server>=1.24.0->jupyter-server-proxy>=3.0->higlass-python) (0.1.1)\n",
      "Requirement already satisfied: jsonschema[format-nongpl]>=4.18.0 in /home/erikson/.local/lib/python3.10/site-packages (from jupyter-events>=0.9.0->jupyter-server>=1.24.0->jupyter-server-proxy>=3.0->higlass-python) (4.23.0)\n",
      "Requirement already satisfied: mdurl~=0.1 in /home/erikson/.local/lib/python3.10/site-packages (from markdown-it-py>=2.2.0->rich>=13.3.3->higlass-schema>=0.0.6->higlass-python) (0.1.2)\n",
      "Requirement already satisfied: mistune<4,>=2.0.3 in /home/erikson/.local/lib/python3.10/site-packages (from nbconvert>=6.4.4->jupyter-server>=1.24.0->jupyter-server-proxy>=3.0->higlass-python) (3.0.2)\n",
      "Requirement already satisfied: tinycss2 in /home/erikson/.local/lib/python3.10/site-packages (from nbconvert>=6.4.4->jupyter-server>=1.24.0->jupyter-server-proxy>=3.0->higlass-python) (1.3.0)\n",
      "Requirement already satisfied: beautifulsoup4 in /home/erikson/.local/lib/python3.10/site-packages (from nbconvert>=6.4.4->jupyter-server>=1.24.0->jupyter-server-proxy>=3.0->higlass-python) (4.12.3)\n",
      "Requirement already satisfied: jupyterlab-pygments in /home/erikson/.local/lib/python3.10/site-packages (from nbconvert>=6.4.4->jupyter-server>=1.24.0->jupyter-server-proxy>=3.0->higlass-python) (0.3.0)\n",
      "Requirement already satisfied: defusedxml in /home/erikson/.local/lib/python3.10/site-packages (from nbconvert>=6.4.4->jupyter-server>=1.24.0->jupyter-server-proxy>=3.0->higlass-python) (0.7.1)\n",
      "Requirement already satisfied: pandocfilters>=1.4.1 in /home/erikson/.local/lib/python3.10/site-packages (from nbconvert>=6.4.4->jupyter-server>=1.24.0->jupyter-server-proxy>=3.0->higlass-python) (1.5.1)\n",
      "Requirement already satisfied: bleach!=5.0.0 in /home/erikson/.local/lib/python3.10/site-packages (from nbconvert>=6.4.4->jupyter-server>=1.24.0->jupyter-server-proxy>=3.0->higlass-python) (6.1.0)\n",
      "Requirement already satisfied: nbclient>=0.5.0 in /home/erikson/.local/lib/python3.10/site-packages (from nbconvert>=6.4.4->jupyter-server>=1.24.0->jupyter-server-proxy>=3.0->higlass-python) (0.10.0)\n",
      "Requirement already satisfied: fastjsonschema>=2.15 in /home/erikson/.local/lib/python3.10/site-packages (from nbformat>=5.3.0->jupyter-server>=1.24.0->jupyter-server-proxy>=3.0->higlass-python) (2.20.0)\n",
      "Requirement already satisfied: ptyprocess in /home/erikson/.local/lib/python3.10/site-packages (from terminado>=0.8.3->jupyter-server>=1.24.0->jupyter-server-proxy>=3.0->higlass-python) (0.7.0)\n",
      "Requirement already satisfied: webencodings in /home/erikson/.local/lib/python3.10/site-packages (from bleach!=5.0.0->nbconvert>=6.4.4->jupyter-server>=1.24.0->jupyter-server-proxy>=3.0->higlass-python) (0.5.1)\n",
      "Requirement already satisfied: six>=1.9.0 in /usr/lib/python3/dist-packages (from bleach!=5.0.0->nbconvert>=6.4.4->jupyter-server>=1.24.0->jupyter-server-proxy>=3.0->higlass-python) (1.16.0)\n",
      "Requirement already satisfied: parso<0.9.0,>=0.8.3 in /home/erikson/.local/lib/python3.10/site-packages (from jedi>=0.16->ipython>=6.1.0->ipywidgets>=7.6.0->anywidget>=0.6.3->higlass-python) (0.8.4)\n",
      "Requirement already satisfied: rpds-py>=0.7.1 in /home/erikson/.local/lib/python3.10/site-packages (from jsonschema[format-nongpl]>=4.18.0->jupyter-events>=0.9.0->jupyter-server>=1.24.0->jupyter-server-proxy>=3.0->higlass-python) (0.20.0)\n",
      "Requirement already satisfied: jsonschema-specifications>=2023.03.6 in /home/erikson/.local/lib/python3.10/site-packages (from jsonschema[format-nongpl]>=4.18.0->jupyter-events>=0.9.0->jupyter-server>=1.24.0->jupyter-server-proxy>=3.0->higlass-python) (2023.12.1)\n",
      "Requirement already satisfied: uri-template in /home/erikson/.local/lib/python3.10/site-packages (from jsonschema[format-nongpl]>=4.18.0->jupyter-events>=0.9.0->jupyter-server>=1.24.0->jupyter-server-proxy>=3.0->higlass-python) (1.3.0)\n",
      "Requirement already satisfied: fqdn in /home/erikson/.local/lib/python3.10/site-packages (from jsonschema[format-nongpl]>=4.18.0->jupyter-events>=0.9.0->jupyter-server>=1.24.0->jupyter-server-proxy>=3.0->higlass-python) (1.5.1)\n",
      "Requirement already satisfied: webcolors>=24.6.0 in /home/erikson/.local/lib/python3.10/site-packages (from jsonschema[format-nongpl]>=4.18.0->jupyter-events>=0.9.0->jupyter-server>=1.24.0->jupyter-server-proxy>=3.0->higlass-python) (24.8.0)\n",
      "Requirement already satisfied: jsonpointer>1.13 in /home/erikson/.local/lib/python3.10/site-packages (from jsonschema[format-nongpl]>=4.18.0->jupyter-events>=0.9.0->jupyter-server>=1.24.0->jupyter-server-proxy>=3.0->higlass-python) (3.0.0)\n",
      "Requirement already satisfied: isoduration in /home/erikson/.local/lib/python3.10/site-packages (from jsonschema[format-nongpl]>=4.18.0->jupyter-events>=0.9.0->jupyter-server>=1.24.0->jupyter-server-proxy>=3.0->higlass-python) (20.11.0)\n",
      "Requirement already satisfied: wcwidth in /home/erikson/.local/lib/python3.10/site-packages (from prompt-toolkit<3.1.0,>=3.0.41->ipython>=6.1.0->ipywidgets>=7.6.0->anywidget>=0.6.3->higlass-python) (0.2.13)\n",
      "Requirement already satisfied: cffi>=1.0.1 in /home/erikson/.local/lib/python3.10/site-packages (from argon2-cffi-bindings->argon2-cffi>=21.1->jupyter-server>=1.24.0->jupyter-server-proxy>=3.0->higlass-python) (1.17.1)\n",
      "Requirement already satisfied: soupsieve>1.2 in /home/erikson/.local/lib/python3.10/site-packages (from beautifulsoup4->nbconvert>=6.4.4->jupyter-server>=1.24.0->jupyter-server-proxy>=3.0->higlass-python) (2.6)\n",
      "Requirement already satisfied: asttokens>=2.1.0 in /home/erikson/.local/lib/python3.10/site-packages (from stack-data->ipython>=6.1.0->ipywidgets>=7.6.0->anywidget>=0.6.3->higlass-python) (2.4.1)\n",
      "Requirement already satisfied: executing>=1.2.0 in /home/erikson/.local/lib/python3.10/site-packages (from stack-data->ipython>=6.1.0->ipywidgets>=7.6.0->anywidget>=0.6.3->higlass-python) (2.0.1)\n",
      "Requirement already satisfied: pure-eval in /home/erikson/.local/lib/python3.10/site-packages (from stack-data->ipython>=6.1.0->ipywidgets>=7.6.0->anywidget>=0.6.3->higlass-python) (0.2.2)\n",
      "Requirement already satisfied: pycparser in /home/erikson/.local/lib/python3.10/site-packages (from cffi>=1.0.1->argon2-cffi-bindings->argon2-cffi>=21.1->jupyter-server>=1.24.0->jupyter-server-proxy>=3.0->higlass-python) (2.22)\n",
      "Requirement already satisfied: arrow>=0.15.0 in /home/erikson/.local/lib/python3.10/site-packages (from isoduration->jsonschema[format-nongpl]>=4.18.0->jupyter-events>=0.9.0->jupyter-server>=1.24.0->jupyter-server-proxy>=3.0->higlass-python) (1.3.0)\n",
      "Requirement already satisfied: types-python-dateutil>=2.8.10 in /home/erikson/.local/lib/python3.10/site-packages (from arrow>=0.15.0->isoduration->jsonschema[format-nongpl]>=4.18.0->jupyter-events>=0.9.0->jupyter-server>=1.24.0->jupyter-server-proxy>=3.0->higlass-python) (2.9.0.20240906)\n"
     ]
    }
   ],
   "source": [
    "!pip install higlass-python"
   ]
  },
  {
   "cell_type": "code",
   "execution_count": 26,
   "id": "9d5abc1c-b1e8-4733-89f4-6592c7dbe3fe",
   "metadata": {
    "tags": []
   },
   "outputs": [
    {
     "ename": "ModuleNotFoundError",
     "evalue": "No module named 'higlass.client'",
     "output_type": "error",
     "traceback": [
      "\u001b[0;31m---------------------------------------------------------------------------\u001b[0m",
      "\u001b[0;31mModuleNotFoundError\u001b[0m                       Traceback (most recent call last)",
      "Cell \u001b[0;32mIn[26], line 1\u001b[0m\n\u001b[0;32m----> 1\u001b[0m \u001b[38;5;28;01mfrom\u001b[39;00m \u001b[38;5;21;01mhiglass\u001b[39;00m\u001b[38;5;21;01m.\u001b[39;00m\u001b[38;5;21;01mclient\u001b[39;00m \u001b[38;5;28;01mimport\u001b[39;00m View, Track\n",
      "\u001b[0;31mModuleNotFoundError\u001b[0m: No module named 'higlass.client'"
     ]
    }
   ],
   "source": [
    "from higlass.client import View, Track\n"
   ]
  },
  {
   "cell_type": "code",
   "execution_count": null,
   "id": "c3ce1181-4b0b-441e-96e6-e73c480b9dc0",
   "metadata": {},
   "outputs": [],
   "source": []
  }
 ],
 "metadata": {
  "kernelspec": {
   "display_name": "methylation",
   "language": "python",
   "name": "methylation"
  },
  "language_info": {
   "codemirror_mode": {
    "name": "ipython",
    "version": 3
   },
   "file_extension": ".py",
   "mimetype": "text/x-python",
   "name": "python",
   "nbconvert_exporter": "python",
   "pygments_lexer": "ipython3",
   "version": "3.12.6"
  }
 },
 "nbformat": 4,
 "nbformat_minor": 5
}
