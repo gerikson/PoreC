{
 "cells": [
  {
   "cell_type": "code",
   "execution_count": 7,
   "id": "f9757571-058d-4916-b64a-fdbde51e2c67",
   "metadata": {
    "tags": []
   },
   "outputs": [
    {
     "ename": "ValueError",
     "evalue": "not enough values to unpack (expected 2, got 0)",
     "output_type": "error",
     "traceback": [
      "\u001b[0;31m---------------------------------------------------------------------------\u001b[0m",
      "\u001b[0;31mValueError\u001b[0m                                Traceback (most recent call last)",
      "Cell \u001b[0;32mIn[7], line 27\u001b[0m\n\u001b[1;32m     24\u001b[0m     cooler\u001b[38;5;241m.\u001b[39mcreate_cooler(output_path, bins\u001b[38;5;241m=\u001b[39mchr1_bins, pixels\u001b[38;5;241m=\u001b[39mchr1_pixels, assembly\u001b[38;5;241m=\u001b[39mc\u001b[38;5;241m.\u001b[39minfo[\u001b[38;5;124m'\u001b[39m\u001b[38;5;124mgenome-assembly\u001b[39m\u001b[38;5;124m'\u001b[39m])\n\u001b[1;32m     26\u001b[0m \u001b[38;5;66;03m# Example usage\u001b[39;00m\n\u001b[0;32m---> 27\u001b[0m \u001b[43mextract_chr1_from_mcool\u001b[49m\u001b[43m(\u001b[49m\u001b[38;5;124;43m'\u001b[39;49m\u001b[38;5;124;43m/data/processing2/erikson_pipegrp/methylation/NlaIII_run02_GRCm38_unphased.matrix.mcool\u001b[39;49m\u001b[38;5;124;43m'\u001b[39;49m\u001b[43m,\u001b[49m\u001b[43m \u001b[49m\u001b[38;5;124;43m'\u001b[39;49m\u001b[38;5;124;43m/data/processing2/erikson_pipegrp/methylation/chr1.mcool\u001b[39;49m\u001b[38;5;124;43m'\u001b[39;49m\u001b[43m)\u001b[49m\n",
      "Cell \u001b[0;32mIn[7], line 24\u001b[0m, in \u001b[0;36mextract_chr1_from_mcool\u001b[0;34m(mcool_path, output_path)\u001b[0m\n\u001b[1;32m     21\u001b[0m chr1_pixels \u001b[38;5;241m=\u001b[39m pixels[(pixels[\u001b[38;5;124m'\u001b[39m\u001b[38;5;124mbin1_id\u001b[39m\u001b[38;5;124m'\u001b[39m]\u001b[38;5;241m.\u001b[39misin(chr1_bins\u001b[38;5;241m.\u001b[39mindex)) \u001b[38;5;241m&\u001b[39m (pixels[\u001b[38;5;124m'\u001b[39m\u001b[38;5;124mbin2_id\u001b[39m\u001b[38;5;124m'\u001b[39m]\u001b[38;5;241m.\u001b[39misin(chr1_bins\u001b[38;5;241m.\u001b[39mindex))]\n\u001b[1;32m     23\u001b[0m \u001b[38;5;66;03m# Create a new Cooler object for chr1\u001b[39;00m\n\u001b[0;32m---> 24\u001b[0m \u001b[43mcooler\u001b[49m\u001b[38;5;241;43m.\u001b[39;49m\u001b[43mcreate_cooler\u001b[49m\u001b[43m(\u001b[49m\u001b[43moutput_path\u001b[49m\u001b[43m,\u001b[49m\u001b[43m \u001b[49m\u001b[43mbins\u001b[49m\u001b[38;5;241;43m=\u001b[39;49m\u001b[43mchr1_bins\u001b[49m\u001b[43m,\u001b[49m\u001b[43m \u001b[49m\u001b[43mpixels\u001b[49m\u001b[38;5;241;43m=\u001b[39;49m\u001b[43mchr1_pixels\u001b[49m\u001b[43m,\u001b[49m\u001b[43m \u001b[49m\u001b[43massembly\u001b[49m\u001b[38;5;241;43m=\u001b[39;49m\u001b[43mc\u001b[49m\u001b[38;5;241;43m.\u001b[39;49m\u001b[43minfo\u001b[49m\u001b[43m[\u001b[49m\u001b[38;5;124;43m'\u001b[39;49m\u001b[38;5;124;43mgenome-assembly\u001b[39;49m\u001b[38;5;124;43m'\u001b[39;49m\u001b[43m]\u001b[49m\u001b[43m)\u001b[49m\n",
      "File \u001b[0;32m/localenv/erikson/anaconda/envs/methylation/lib/python3.12/site-packages/cooler/create/_create.py:1073\u001b[0m, in \u001b[0;36mcreate_cooler\u001b[0;34m(cool_uri, bins, pixels, columns, dtypes, metadata, assembly, ordered, symmetric_upper, mode, mergebuf, delete_temp, temp_dir, max_merge, boundscheck, dupcheck, triucheck, ensure_sorted, h5opts, lock)\u001b[0m\n\u001b[1;32m   1070\u001b[0m     ordered \u001b[38;5;241m=\u001b[39m \u001b[38;5;28;01mTrue\u001b[39;00m\n\u001b[1;32m   1072\u001b[0m \u001b[38;5;28;01mif\u001b[39;00m ordered:\n\u001b[0;32m-> 1073\u001b[0m     \u001b[43mcreate\u001b[49m\u001b[43m(\u001b[49m\n\u001b[1;32m   1074\u001b[0m \u001b[43m        \u001b[49m\u001b[43mcool_uri\u001b[49m\u001b[43m,\u001b[49m\n\u001b[1;32m   1075\u001b[0m \u001b[43m        \u001b[49m\u001b[43mbins\u001b[49m\u001b[43m,\u001b[49m\n\u001b[1;32m   1076\u001b[0m \u001b[43m        \u001b[49m\u001b[43mpixels\u001b[49m\u001b[43m,\u001b[49m\n\u001b[1;32m   1077\u001b[0m \u001b[43m        \u001b[49m\u001b[43mcolumns\u001b[49m\u001b[38;5;241;43m=\u001b[39;49m\u001b[43mcolumns\u001b[49m\u001b[43m,\u001b[49m\n\u001b[1;32m   1078\u001b[0m \u001b[43m        \u001b[49m\u001b[43mdtypes\u001b[49m\u001b[38;5;241;43m=\u001b[39;49m\u001b[43mdtypes\u001b[49m\u001b[43m,\u001b[49m\n\u001b[1;32m   1079\u001b[0m \u001b[43m        \u001b[49m\u001b[43mmetadata\u001b[49m\u001b[38;5;241;43m=\u001b[39;49m\u001b[43mmetadata\u001b[49m\u001b[43m,\u001b[49m\n\u001b[1;32m   1080\u001b[0m \u001b[43m        \u001b[49m\u001b[43massembly\u001b[49m\u001b[38;5;241;43m=\u001b[39;49m\u001b[43massembly\u001b[49m\u001b[43m,\u001b[49m\n\u001b[1;32m   1081\u001b[0m \u001b[43m        \u001b[49m\u001b[43msymmetric_upper\u001b[49m\u001b[38;5;241;43m=\u001b[39;49m\u001b[43msymmetric_upper\u001b[49m\u001b[43m,\u001b[49m\n\u001b[1;32m   1082\u001b[0m \u001b[43m        \u001b[49m\u001b[43mmode\u001b[49m\u001b[38;5;241;43m=\u001b[39;49m\u001b[43mmode\u001b[49m\u001b[43m,\u001b[49m\n\u001b[1;32m   1083\u001b[0m \u001b[43m        \u001b[49m\u001b[43mboundscheck\u001b[49m\u001b[38;5;241;43m=\u001b[39;49m\u001b[43mboundscheck\u001b[49m\u001b[43m,\u001b[49m\n\u001b[1;32m   1084\u001b[0m \u001b[43m        \u001b[49m\u001b[43mdupcheck\u001b[49m\u001b[38;5;241;43m=\u001b[39;49m\u001b[43mdupcheck\u001b[49m\u001b[43m,\u001b[49m\n\u001b[1;32m   1085\u001b[0m \u001b[43m        \u001b[49m\u001b[43mtriucheck\u001b[49m\u001b[38;5;241;43m=\u001b[39;49m\u001b[43mtriucheck\u001b[49m\u001b[43m,\u001b[49m\n\u001b[1;32m   1086\u001b[0m \u001b[43m        \u001b[49m\u001b[43mensure_sorted\u001b[49m\u001b[38;5;241;43m=\u001b[39;49m\u001b[43mensure_sorted\u001b[49m\u001b[43m,\u001b[49m\n\u001b[1;32m   1087\u001b[0m \u001b[43m        \u001b[49m\u001b[43mh5opts\u001b[49m\u001b[38;5;241;43m=\u001b[39;49m\u001b[43mh5opts\u001b[49m\u001b[43m,\u001b[49m\n\u001b[1;32m   1088\u001b[0m \u001b[43m        \u001b[49m\u001b[43mlock\u001b[49m\u001b[38;5;241;43m=\u001b[39;49m\u001b[43mlock\u001b[49m\u001b[43m,\u001b[49m\n\u001b[1;32m   1089\u001b[0m \u001b[43m    \u001b[49m\u001b[43m)\u001b[49m\n\u001b[1;32m   1090\u001b[0m \u001b[38;5;28;01melse\u001b[39;00m:\n\u001b[1;32m   1091\u001b[0m     create_from_unordered(\n\u001b[1;32m   1092\u001b[0m         cool_uri,\n\u001b[1;32m   1093\u001b[0m         bins,\n\u001b[0;32m   (...)\u001b[0m\n\u001b[1;32m   1110\u001b[0m         max_merge\u001b[38;5;241m=\u001b[39mmax_merge,\n\u001b[1;32m   1111\u001b[0m     )\n",
      "File \u001b[0;32m/localenv/erikson/anaconda/envs/methylation/lib/python3.12/site-packages/cooler/create/_create.py:585\u001b[0m, in \u001b[0;36mcreate\u001b[0;34m(cool_uri, bins, pixels, columns, dtypes, metadata, assembly, symmetric_upper, mode, h5opts, boundscheck, triucheck, dupcheck, ensure_sorted, lock, append, append_scool, scool_root_uri, **kwargs)\u001b[0m\n\u001b[1;32m    583\u001b[0m \u001b[38;5;28;01mexcept\u001b[39;00m \u001b[38;5;167;01mAttributeError\u001b[39;00m:\n\u001b[1;32m    584\u001b[0m     \u001b[38;5;28;01mpass\u001b[39;00m\n\u001b[0;32m--> 585\u001b[0m chromnames, lengths \u001b[38;5;241m=\u001b[39m \u001b[38;5;28mzip\u001b[39m(\u001b[38;5;241m*\u001b[39mchromsizes)\n\u001b[1;32m    586\u001b[0m chroms \u001b[38;5;241m=\u001b[39m pd\u001b[38;5;241m.\u001b[39mDataFrame(\n\u001b[1;32m    587\u001b[0m     {\u001b[38;5;124m\"\u001b[39m\u001b[38;5;124mname\u001b[39m\u001b[38;5;124m\"\u001b[39m: chromnames, \u001b[38;5;124m\"\u001b[39m\u001b[38;5;124mlength\u001b[39m\u001b[38;5;124m\"\u001b[39m: lengths}, columns\u001b[38;5;241m=\u001b[39m[\u001b[38;5;124m\"\u001b[39m\u001b[38;5;124mname\u001b[39m\u001b[38;5;124m\"\u001b[39m, \u001b[38;5;124m\"\u001b[39m\u001b[38;5;124mlength\u001b[39m\u001b[38;5;124m\"\u001b[39m]\n\u001b[1;32m    588\u001b[0m )\n\u001b[1;32m    589\u001b[0m binsize \u001b[38;5;241m=\u001b[39m get_binsize(bins)\n",
      "\u001b[0;31mValueError\u001b[0m: not enough values to unpack (expected 2, got 0)"
     ]
    }
   ],
   "source": [
    "import cooler\n",
    "\n",
    "def extract_chr1_from_mcool(mcool_path, output_path):\n",
    "    \"\"\"\n",
    "    Extracts chromosome 1 from a Hi-C mcool matrix and saves it to a new file.\n",
    "\n",
    "    Parameters:\n",
    "    mcool_path (str): Path to the input mcool file.\n",
    "    output_path (str): Path to the output mcool file containing only chr1.\n",
    "    \"\"\"\n",
    "    \n",
    "    # Open the mcool file\n",
    "    c = cooler.Cooler(mcool_path + '::resolutions/10000')  # Adjust resolution as needed\n",
    "\n",
    "    # Extract the bins and pixels for chr1\n",
    "    bins = c.bins()[:]\n",
    "    pixels = c.pixels()[:]\n",
    "\n",
    "    # Filter bins and pixels for chr1\n",
    "    chr1_bins = bins[bins['chrom'] == 'chr1']\n",
    "    chr1_pixels = pixels[(pixels['bin1_id'].isin(chr1_bins.index)) & (pixels['bin2_id'].isin(chr1_bins.index))]\n",
    "\n",
    "    # Create a new Cooler object for chr1\n",
    "    cooler.create_cooler(output_path, bins=chr1_bins, pixels=chr1_pixels, assembly=c.info['genome-assembly'])\n",
    "\n",
    "# Example usage\n",
    "extract_chr1_from_mcool('/data/processing2/erikson_pipegrp/methylation/NlaIII_run02_GRCm38_unphased.matrix.mcool', '/data/processing2/erikson_pipegrp/methylation/chr1.mcool')"
   ]
  },
  {
   "cell_type": "code",
   "execution_count": null,
   "id": "9fd9229e-7614-401c-a9d6-028e753cad3c",
   "metadata": {
    "tags": []
   },
   "outputs": [],
   "source": [
    "#mcool to text\n",
    "import cooler\n",
    "\n",
    "# Load the .mcool file\n",
    "c = cooler.Cooler(\"/data/processing2/erikson_pipegrp/methylation/NlaIII_run02_GRCm38_unphased.matrix.mcool\" + '::resolutions/10000')\n",
    "\n",
    "# Calculate balancing weights\n",
    "#cooler.balance_cooler(c)\n",
    "\n",
    "# Extract the data you need, for example, the contact matrix\n",
    "#matrix = c.matrix(balance=True)[:]\n",
    "matrix = c.matrix(balance=False)[:]\n",
    "\n",
    "# Write the matrix to a text file\n",
    "with open(\"/data/processing2/erikson_pipegrp/methylation/matrix.txt\", \"w\") as f:\n",
    "    for row in matrix:\n",
    "        #print('Hello')\n",
    "        f.write(\"\\t\".join(map(str, row)) + \"\\n\")"
   ]
  },
  {
   "cell_type": "code",
   "execution_count": null,
   "id": "1bb518f0-b6dc-490e-bc2a-02415021efe2",
   "metadata": {},
   "outputs": [],
   "source": []
  }
 ],
 "metadata": {
  "kernelspec": {
   "display_name": "methylation",
   "language": "python",
   "name": "methylation"
  },
  "language_info": {
   "codemirror_mode": {
    "name": "ipython",
    "version": 3
   },
   "file_extension": ".py",
   "mimetype": "text/x-python",
   "name": "python",
   "nbconvert_exporter": "python",
   "pygments_lexer": "ipython3",
   "version": "3.12.6"
  }
 },
 "nbformat": 4,
 "nbformat_minor": 5
}
