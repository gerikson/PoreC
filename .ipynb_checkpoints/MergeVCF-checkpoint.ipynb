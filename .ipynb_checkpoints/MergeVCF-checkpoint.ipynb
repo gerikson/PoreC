{
 "cells": [
  {
   "cell_type": "code",
   "execution_count": 3,
   "id": "b607b80a-8121-4723-80fb-af6cf5f042aa",
   "metadata": {
    "tags": []
   },
   "outputs": [
    {
     "ename": "TypeError",
     "evalue": "'pysam.libcbcf.VariantRecordSamples' object does not support item assignment",
     "output_type": "error",
     "traceback": [
      "\u001b[0;31m---------------------------------------------------------------------------\u001b[0m",
      "\u001b[0;31mTypeError\u001b[0m                                 Traceback (most recent call last)",
      "Cell \u001b[0;32mIn[3], line 19\u001b[0m\n\u001b[1;32m     16\u001b[0m merged_gt \u001b[38;5;241m=\u001b[39m \u001b[38;5;28mtuple\u001b[39m(\u001b[38;5;28mset\u001b[39m(maternal_gt \u001b[38;5;241m+\u001b[39m paternal_gt))\n\u001b[1;32m     18\u001b[0m \u001b[38;5;66;03m# Update the genotype in the record\u001b[39;00m\n\u001b[0;32m---> 19\u001b[0m \u001b[43mrecord\u001b[49m\u001b[38;5;241;43m.\u001b[39;49m\u001b[43msamples\u001b[49m\u001b[43m[\u001b[49m\u001b[38;5;124;43m\"\u001b[39;49m\u001b[38;5;124;43mJJg14_057\u001b[39;49m\u001b[38;5;124;43m\"\u001b[39;49m\u001b[43m]\u001b[49m \u001b[38;5;241m=\u001b[39m {\u001b[38;5;124m'\u001b[39m\u001b[38;5;124mGT\u001b[39m\u001b[38;5;124m'\u001b[39m: merged_gt}\n\u001b[1;32m     21\u001b[0m \u001b[38;5;66;03m# Write the updated record to the output VCF\u001b[39;00m\n\u001b[1;32m     22\u001b[0m output_vcf\u001b[38;5;241m.\u001b[39mwrite(record)\n",
      "\u001b[0;31mTypeError\u001b[0m: 'pysam.libcbcf.VariantRecordSamples' object does not support item assignment"
     ]
    }
   ],
   "source": [
    "import pysam\n",
    "\n",
    "# Open the input VCF file\n",
    "input_vcf = pysam.VariantFile(\"/data/processing4/erikson_pipegrp/Jumana/JJg14_hybrid_forSP.vcf\", \"r\")\n",
    "\n",
    "# Create an output VCF file\n",
    "output_vcf = pysam.VariantFile(\"/data/processing4/erikson_pipegrp/Jumana/JJg14_hybrid_forSP.merged.vcf\", \"w\", header=input_vcf.header)\n",
    "\n",
    "# Iterate over each record in the input VCF\n",
    "for record in input_vcf:\n",
    "    # Assuming maternal and paternal genotypes are stored in separate samples\n",
    "    maternal_gt = record.samples[\"JJg14_057\"]['GT']\n",
    "    paternal_gt = record.samples[\"JJg14_439\"]['GT']\n",
    "    \n",
    "    # Merge the genotypes (this is a simple example, adjust as needed)\n",
    "    merged_gt = tuple(set(maternal_gt + paternal_gt))\n",
    "    \n",
    "    # Update the genotype in the record\n",
    "    record.samples[\"JJg14_057\"] = {'GT': merged_gt}\n",
    "    \n",
    "    # Write the updated record to the output VCF\n",
    "    output_vcf.write(record)\n",
    "\n",
    "# Close the files\n",
    "input_vcf.close()\n",
    "output_vcf.close()"
   ]
  },
  {
   "cell_type": "code",
   "execution_count": null,
   "id": "cccd0730-be77-47b4-9bfb-1ec11011dca8",
   "metadata": {},
   "outputs": [],
   "source": []
  },
  {
   "cell_type": "code",
   "execution_count": null,
   "id": "daad033c-2acc-4702-9ae0-1dfd03ec800c",
   "metadata": {},
   "outputs": [],
   "source": []
  }
 ],
 "metadata": {
  "kernelspec": {
   "display_name": "Python3.12",
   "language": "python",
   "name": "python3.12"
  },
  "language_info": {
   "codemirror_mode": {
    "name": "ipython",
    "version": 3
   },
   "file_extension": ".py",
   "mimetype": "text/x-python",
   "name": "python",
   "nbconvert_exporter": "python",
   "pygments_lexer": "ipython3",
   "version": "3.12.7"
  }
 },
 "nbformat": 4,
 "nbformat_minor": 5
}
