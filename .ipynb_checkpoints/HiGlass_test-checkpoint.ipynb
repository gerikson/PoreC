{
 "cells": [
  {
   "cell_type": "code",
   "execution_count": 2,
   "id": "b2ae7e05-0f1e-43cb-8dcc-d61099d15452",
   "metadata": {
    "tags": []
   },
   "outputs": [
    {
     "ename": "ImportError",
     "evalue": "cannot import name 'LocalTileset' from 'higlass.tilesets' (/localenv/erikson/anaconda/envs/clodius_env/lib/python3.7/site-packages/higlass/tilesets.py)",
     "output_type": "error",
     "traceback": [
      "\u001b[0;31m---------------------------------------------------------------------------\u001b[0m",
      "\u001b[0;31mImportError\u001b[0m                               Traceback (most recent call last)",
      "\u001b[0;32m/tmp/ipykernel_209833/3983499322.py\u001b[0m in \u001b[0;36m<module>\u001b[0;34m\u001b[0m\n\u001b[0;32m----> 1\u001b[0;31m \u001b[0;32mimport\u001b[0m \u001b[0mhiglass\u001b[0m \u001b[0;32mas\u001b[0m \u001b[0mhg\u001b[0m\u001b[0;34m\u001b[0m\u001b[0;34m\u001b[0m\u001b[0m\n\u001b[0m\u001b[1;32m      2\u001b[0m \u001b[0;34m\u001b[0m\u001b[0m\n\u001b[1;32m      3\u001b[0m \u001b[0mhg\u001b[0m\u001b[0;34m.\u001b[0m\u001b[0mview\u001b[0m\u001b[0;34m(\u001b[0m\u001b[0mhg\u001b[0m\u001b[0;34m.\u001b[0m\u001b[0mtrack\u001b[0m\u001b[0;34m(\u001b[0m\u001b[0;34m\"top-axis\"\u001b[0m\u001b[0;34m)\u001b[0m\u001b[0;34m)\u001b[0m\u001b[0;34m\u001b[0m\u001b[0;34m\u001b[0m\u001b[0m\n",
      "\u001b[0;32m/localenv/erikson/anaconda/envs/clodius_env/lib/python3.7/site-packages/higlass/__init__.py\u001b[0m in \u001b[0;36m<module>\u001b[0;34m\u001b[0m\n\u001b[1;32m      2\u001b[0m \u001b[0;32mfrom\u001b[0m \u001b[0;34m.\u001b[0m\u001b[0mviewer\u001b[0m \u001b[0;32mimport\u001b[0m \u001b[0mdisplay\u001b[0m\u001b[0;34m\u001b[0m\u001b[0;34m\u001b[0m\u001b[0m\n\u001b[1;32m      3\u001b[0m \u001b[0;32mfrom\u001b[0m \u001b[0;34m.\u001b[0m\u001b[0mtilesets\u001b[0m \u001b[0;32mimport\u001b[0m \u001b[0mTileset\u001b[0m\u001b[0;34m\u001b[0m\u001b[0;34m\u001b[0m\u001b[0m\n\u001b[0;32m----> 4\u001b[0;31m \u001b[0;32mfrom\u001b[0m \u001b[0;34m.\u001b[0m\u001b[0mserver\u001b[0m \u001b[0;32mimport\u001b[0m \u001b[0mServer\u001b[0m\u001b[0;34m\u001b[0m\u001b[0;34m\u001b[0m\u001b[0m\n\u001b[0m\u001b[1;32m      5\u001b[0m \u001b[0;32mfrom\u001b[0m \u001b[0;34m.\u001b[0m\u001b[0mclient\u001b[0m \u001b[0;32mimport\u001b[0m \u001b[0mTrack\u001b[0m\u001b[0;34m,\u001b[0m \u001b[0mCombinedTrack\u001b[0m\u001b[0;34m,\u001b[0m \u001b[0mView\u001b[0m\u001b[0;34m,\u001b[0m \u001b[0mViewConf\u001b[0m\u001b[0;34m\u001b[0m\u001b[0;34m\u001b[0m\u001b[0m\n\u001b[1;32m      6\u001b[0m \u001b[0;34m\u001b[0m\u001b[0m\n",
      "\u001b[0;32m/localenv/erikson/anaconda/envs/clodius_env/lib/python3.7/site-packages/higlass/server/__init__.py\u001b[0m in \u001b[0;36m<module>\u001b[0;34m\u001b[0m\n\u001b[1;32m      6\u001b[0m \u001b[0;32mfrom\u001b[0m \u001b[0mtyping_extensions\u001b[0m \u001b[0;32mimport\u001b[0m \u001b[0mParamSpec\u001b[0m\u001b[0;34m\u001b[0m\u001b[0;34m\u001b[0m\u001b[0m\n\u001b[1;32m      7\u001b[0m \u001b[0;34m\u001b[0m\u001b[0m\n\u001b[0;32m----> 8\u001b[0;31m \u001b[0;32mfrom\u001b[0m \u001b[0mhiglass\u001b[0m\u001b[0;34m.\u001b[0m\u001b[0mtilesets\u001b[0m \u001b[0;32mimport\u001b[0m \u001b[0mLocalTileset\u001b[0m\u001b[0;34m\u001b[0m\u001b[0;34m\u001b[0m\u001b[0m\n\u001b[0m\u001b[1;32m      9\u001b[0m \u001b[0;34m\u001b[0m\u001b[0m\n\u001b[1;32m     10\u001b[0m \u001b[0;32mfrom\u001b[0m \u001b[0;34m.\u001b[0m\u001b[0m_provider\u001b[0m \u001b[0;32mimport\u001b[0m \u001b[0mTilesetProvider\u001b[0m\u001b[0;34m,\u001b[0m \u001b[0mTilesetResource\u001b[0m\u001b[0;34m\u001b[0m\u001b[0;34m\u001b[0m\u001b[0m\n",
      "\u001b[0;31mImportError\u001b[0m: cannot import name 'LocalTileset' from 'higlass.tilesets' (/localenv/erikson/anaconda/envs/clodius_env/lib/python3.7/site-packages/higlass/tilesets.py)"
     ]
    }
   ],
   "source": [
    "import higlass as hg\n",
    "\n",
    "hg.view(hg.track(\"top-axis\"))"
   ]
  },
  {
   "cell_type": "code",
   "execution_count": 3,
   "id": "5b34941f-5fd1-4850-8450-4d6496b55f10",
   "metadata": {},
   "outputs": [
    {
     "ename": "ImportError",
     "evalue": "cannot import name 'LocalTileset' from 'higlass.tilesets' (/localenv/erikson/anaconda/envs/clodius_env/lib/python3.7/site-packages/higlass/tilesets.py)",
     "output_type": "error",
     "traceback": [
      "\u001b[0;31m---------------------------------------------------------------------------\u001b[0m",
      "\u001b[0;31mImportError\u001b[0m                               Traceback (most recent call last)",
      "\u001b[0;32m/tmp/ipykernel_209833/3716839654.py\u001b[0m in \u001b[0;36m<module>\u001b[0;34m\u001b[0m\n\u001b[0;32m----> 1\u001b[0;31m \u001b[0;32mimport\u001b[0m \u001b[0mhiglass\u001b[0m\u001b[0;34m\u001b[0m\u001b[0;34m\u001b[0m\u001b[0m\n\u001b[0m\u001b[1;32m      2\u001b[0m \u001b[0;32mimport\u001b[0m \u001b[0mhiglass\u001b[0m\u001b[0;34m.\u001b[0m\u001b[0mtilesets\u001b[0m\u001b[0;34m\u001b[0m\u001b[0;34m\u001b[0m\u001b[0m\n\u001b[1;32m      3\u001b[0m \u001b[0;32mfrom\u001b[0m \u001b[0mhiglass\u001b[0m\u001b[0;34m.\u001b[0m\u001b[0mclient\u001b[0m \u001b[0;32mimport\u001b[0m \u001b[0mTrack\u001b[0m\u001b[0;34m,\u001b[0m \u001b[0mView\u001b[0m\u001b[0;34m\u001b[0m\u001b[0;34m\u001b[0m\u001b[0m\n\u001b[1;32m      4\u001b[0m \u001b[0mts1\u001b[0m \u001b[0;34m=\u001b[0m \u001b[0mhiglass\u001b[0m\u001b[0;34m.\u001b[0m\u001b[0mtilesets\u001b[0m\u001b[0;34m.\u001b[0m\u001b[0mcooler\u001b[0m\u001b[0;34m(\u001b[0m\u001b[0;34m'4DNFI2A4OBS9.mcool'\u001b[0m\u001b[0;34m)\u001b[0m\u001b[0;34m\u001b[0m\u001b[0;34m\u001b[0m\u001b[0m\n\u001b[1;32m      5\u001b[0m \u001b[0mtr1\u001b[0m \u001b[0;34m=\u001b[0m \u001b[0mTrack\u001b[0m\u001b[0;34m(\u001b[0m\u001b[0;34m'heatmap'\u001b[0m\u001b[0;34m,\u001b[0m \u001b[0mtileset\u001b[0m\u001b[0;34m=\u001b[0m\u001b[0mts1\u001b[0m\u001b[0;34m)\u001b[0m\u001b[0;34m\u001b[0m\u001b[0;34m\u001b[0m\u001b[0m\n",
      "\u001b[0;32m/localenv/erikson/anaconda/envs/clodius_env/lib/python3.7/site-packages/higlass/__init__.py\u001b[0m in \u001b[0;36m<module>\u001b[0;34m\u001b[0m\n\u001b[1;32m      2\u001b[0m \u001b[0;32mfrom\u001b[0m \u001b[0;34m.\u001b[0m\u001b[0mviewer\u001b[0m \u001b[0;32mimport\u001b[0m \u001b[0mdisplay\u001b[0m\u001b[0;34m\u001b[0m\u001b[0;34m\u001b[0m\u001b[0m\n\u001b[1;32m      3\u001b[0m \u001b[0;32mfrom\u001b[0m \u001b[0;34m.\u001b[0m\u001b[0mtilesets\u001b[0m \u001b[0;32mimport\u001b[0m \u001b[0mTileset\u001b[0m\u001b[0;34m\u001b[0m\u001b[0;34m\u001b[0m\u001b[0m\n\u001b[0;32m----> 4\u001b[0;31m \u001b[0;32mfrom\u001b[0m \u001b[0;34m.\u001b[0m\u001b[0mserver\u001b[0m \u001b[0;32mimport\u001b[0m \u001b[0mServer\u001b[0m\u001b[0;34m\u001b[0m\u001b[0;34m\u001b[0m\u001b[0m\n\u001b[0m\u001b[1;32m      5\u001b[0m \u001b[0;32mfrom\u001b[0m \u001b[0;34m.\u001b[0m\u001b[0mclient\u001b[0m \u001b[0;32mimport\u001b[0m \u001b[0mTrack\u001b[0m\u001b[0;34m,\u001b[0m \u001b[0mCombinedTrack\u001b[0m\u001b[0;34m,\u001b[0m \u001b[0mView\u001b[0m\u001b[0;34m,\u001b[0m \u001b[0mViewConf\u001b[0m\u001b[0;34m\u001b[0m\u001b[0;34m\u001b[0m\u001b[0m\n\u001b[1;32m      6\u001b[0m \u001b[0;34m\u001b[0m\u001b[0m\n",
      "\u001b[0;32m/localenv/erikson/anaconda/envs/clodius_env/lib/python3.7/site-packages/higlass/server/__init__.py\u001b[0m in \u001b[0;36m<module>\u001b[0;34m\u001b[0m\n\u001b[1;32m      6\u001b[0m \u001b[0;32mfrom\u001b[0m \u001b[0mtyping_extensions\u001b[0m \u001b[0;32mimport\u001b[0m \u001b[0mParamSpec\u001b[0m\u001b[0;34m\u001b[0m\u001b[0;34m\u001b[0m\u001b[0m\n\u001b[1;32m      7\u001b[0m \u001b[0;34m\u001b[0m\u001b[0m\n\u001b[0;32m----> 8\u001b[0;31m \u001b[0;32mfrom\u001b[0m \u001b[0mhiglass\u001b[0m\u001b[0;34m.\u001b[0m\u001b[0mtilesets\u001b[0m \u001b[0;32mimport\u001b[0m \u001b[0mLocalTileset\u001b[0m\u001b[0;34m\u001b[0m\u001b[0;34m\u001b[0m\u001b[0m\n\u001b[0m\u001b[1;32m      9\u001b[0m \u001b[0;34m\u001b[0m\u001b[0m\n\u001b[1;32m     10\u001b[0m \u001b[0;32mfrom\u001b[0m \u001b[0;34m.\u001b[0m\u001b[0m_provider\u001b[0m \u001b[0;32mimport\u001b[0m \u001b[0mTilesetProvider\u001b[0m\u001b[0;34m,\u001b[0m \u001b[0mTilesetResource\u001b[0m\u001b[0;34m\u001b[0m\u001b[0;34m\u001b[0m\u001b[0m\n",
      "\u001b[0;31mImportError\u001b[0m: cannot import name 'LocalTileset' from 'higlass.tilesets' (/localenv/erikson/anaconda/envs/clodius_env/lib/python3.7/site-packages/higlass/tilesets.py)"
     ]
    }
   ],
   "source": [
    "import higlass\n",
    "import higlass.tilesets\n",
    "from higlass.client import Track, View\n",
    "ts1 = higlass.tilesets.cooler('4DNFI2A4OBS9.mcool')\n",
    "tr1 = Track('heatmap', tileset=ts1)\n",
    "view1 = View([tr1])\n",
    "display, server, viewconf = higlass.display([view1])\n",
    "display"
   ]
  },
  {
   "cell_type": "code",
   "execution_count": null,
   "id": "7474ce34-3109-4d02-b1d0-df1cedd301d6",
   "metadata": {},
   "outputs": [],
   "source": []
  }
 ],
 "metadata": {
  "kernelspec": {
   "display_name": "clodius_env",
   "language": "python",
   "name": "clodius_env"
  },
  "language_info": {
   "codemirror_mode": {
    "name": "ipython",
    "version": 3
   },
   "file_extension": ".py",
   "mimetype": "text/x-python",
   "name": "python",
   "nbconvert_exporter": "python",
   "pygments_lexer": "ipython3",
   "version": "3.7.12"
  }
 },
 "nbformat": 4,
 "nbformat_minor": 5
}
