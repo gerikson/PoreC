{
 "cells": [
  {
   "cell_type": "code",
   "execution_count": 1,
   "id": "e8501a3a-8ed8-4faa-a633-621061f61ce9",
   "metadata": {
    "tags": []
   },
   "outputs": [
    {
     "name": "stdout",
     "output_type": "stream",
     "text": [
      "The Hi-C mcool file is not phased.\n"
     ]
    }
   ],
   "source": [
    "#cheeck if a mcool file is phased\n",
    "import h5py\n",
    "\n",
    "def check_phased_and_extract_statistics(mcool_file_path):\n",
    "    with h5py.File(mcool_file_path, 'r') as mcool_file:\n",
    "        # Check if the file contains phasing information\n",
    "        if 'phasing' in mcool_file:\n",
    "            print(\"The Hi-C mcool file is phased.\")\n",
    "            \n",
    "            # Extract phase statistics\n",
    "            phasing_group = mcool_file['phasing']\n",
    "            phase_stats = {}\n",
    "            \n",
    "            for key in phasing_group.keys():\n",
    "                data = phasing_group[key][:]\n",
    "                phase_stats[key] = data\n",
    "                print(f\"Phase statistics for {key}: {data}\")\n",
    "            \n",
    "            return phase_stats\n",
    "        else:\n",
    "            print(\"The Hi-C mcool file is not phased.\")\n",
    "            return None\n",
    "\n",
    "# Example usage\n",
    "mcool_file_path = '/data/processing4/erikson_pipegrp/run05_nextflow/pairs/23L004746_CaBl_C7_NPCs_MSL2KO2_rep1.mcool'\n",
    "phase_statistics = check_phased_and_extract_statistics(mcool_file_path)"
   ]
  },
  {
   "cell_type": "code",
   "execution_count": null,
   "id": "63724b15-890c-4665-9e31-27ec6a6b04cc",
   "metadata": {
    "tags": []
   },
   "outputs": [],
   "source": [
    "#check if a bam file is phased\n",
    "import pysam\n",
    "\n",
    "def is_bam_phased(bam_file_path):\n",
    "    print(\"In the function\")\n",
    "    # Open the BAM file\n",
    "    bamfile = pysam.AlignmentFile(bam_file_path, \"rb\")\n",
    "    \n",
    "    # Iterate through the reads\n",
    "    for read in bamfile.fetch():\n",
    "        # Check for phasing information in the read's tags\n",
    "        if read.has_tag('HP') or read.has_tag('PS'):\n",
    "            print(\"Hello\")\n",
    "            return True\n",
    "    \n",
    "    # Close the BAM file\n",
    "    bamfile.close()\n",
    "    \n",
    "    return False\n",
    "\n",
    "# Example usage\n",
    "bam_file_path = '/data/processing4/erikson_pipegrp/run05_nextflow/bams/23L004746_CaBl_C7_NPCs_MSL2KO2_rep1.cs.bam'\n",
    "if is_bam_phased(bam_file_path):\n",
    "    print(\"The BAM file is phased.\")\n",
    "else:\n",
    "    print(\"The BAM file is not phased.\")"
   ]
  },
  {
   "cell_type": "code",
   "execution_count": null,
   "id": "f212ba2c-a474-4de0-ace5-f714504ef733",
   "metadata": {},
   "outputs": [],
   "source": []
  }
 ],
 "metadata": {
  "kernelspec": {
   "display_name": "Python3.12",
   "language": "python",
   "name": "python3.12"
  },
  "language_info": {
   "codemirror_mode": {
    "name": "ipython",
    "version": 3
   },
   "file_extension": ".py",
   "mimetype": "text/x-python",
   "name": "python",
   "nbconvert_exporter": "python",
   "pygments_lexer": "ipython3",
   "version": "3.12.7"
  }
 },
 "nbformat": 4,
 "nbformat_minor": 5
}
