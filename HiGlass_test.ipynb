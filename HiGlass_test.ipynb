{
 "cells": [
  {
   "cell_type": "code",
   "execution_count": 4,
   "id": "b2ae7e05-0f1e-43cb-8dcc-d61099d15452",
   "metadata": {
    "tags": []
   },
   "outputs": [
    {
     "data": {
      "text/html": [
       "\n",
       "<!DOCTYPE html>\n",
       "<html>\n",
       "  <head>\n",
       "    <link rel=\"stylesheet\" href=\"https://esm.sh/higlass@1.12/dist/hglib.css\">\n",
       "    <script src=\"https://unpkg.com/requirejs-toggle\"></script>\n",
       "    \n",
       "    <script src=\"https://unpkg.com/requirejs-toggle\"></script>\n",
       "  </head>\n",
       "  <body>\n",
       "    <div id=\"jupyter-hg-7733c3ee9c904d94a5f28e70551eee7a\"></div>\n",
       "  </body>\n",
       "  <script type=\"module\">\n",
       "    import hglib from \"https://esm.sh/higlass@1.12?deps=react@17,react-dom@17,pixi.js@6\";\n",
       "    hglib.viewer(\n",
       "      document.getElementById('jupyter-hg-7733c3ee9c904d94a5f28e70551eee7a'),\n",
       "      {\"editable\": true, \"viewEditable\": true, \"tracksEditable\": true, \"views\": [{\"layout\": {\"x\": 0, \"y\": 0, \"w\": 12, \"h\": 6}, \"tracks\": {\"top\": [{\"type\": \"top-axis\", \"uid\": \"c1a77cbd-a327-42c0-8770-a31cc6475c78\"}]}, \"uid\": \"aab8c90f-81c7-4e64-88fa-3fa23a2c8ee3\", \"zoomLimits\": [1, null]}]},\n",
       "    );\n",
       "    </script>\n",
       "</html>"
      ],
      "text/plain": [
       "View(layout=Layout(x=0, y=0, w=12, h=6, moved=None, static=None), tracks=Tracks[TypeVar](left=None, right=None, top=[EnumTrack(tilesetUid=None, server=None, type='top-axis', uid='c1a77cbd-a327-42c0-8770-a31cc6475c78', width=None, height=None, options=None, data=None, chromInfoPath=None, fromViewUid=None, x=None, y=None)], bottom=None, center=None, whole=None, gallery=None), uid='aab8c90f-81c7-4e64-88fa-3fa23a2c8ee3', autocompleteSource=None, chromInfoPath=None, genomePositionSearchBox=None, genomePositionSearchBoxVisible=None, initialXDomain=None, initialYDomain=None, overlays=None, selectionView=None, zoomFixed=None, zoomLimits=(1, None))"
      ]
     },
     "execution_count": 4,
     "metadata": {},
     "output_type": "execute_result"
    }
   ],
   "source": [
    "import higlass as hg\n",
    "\n",
    "hg.view(hg.track(\"top-axis\"))"
   ]
  },
  {
   "cell_type": "code",
   "execution_count": 7,
   "id": "5b34941f-5fd1-4850-8450-4d6496b55f10",
   "metadata": {},
   "outputs": [
    {
     "ename": "ImportError",
     "evalue": "You must have `clodius` installed to use \"matrix\" data-server.",
     "output_type": "error",
     "traceback": [
      "\u001b[0;31m---------------------------------------------------------------------------\u001b[0m",
      "\u001b[0;31mModuleNotFoundError\u001b[0m                       Traceback (most recent call last)",
      "File \u001b[0;32m/localenv/erikson/anaconda/envs/methylation/lib/python3.12/site-packages/higlass/tilesets.py:140\u001b[0m, in \u001b[0;36mcooler\u001b[0;34m(filepath, uid)\u001b[0m\n\u001b[1;32m    139\u001b[0m \u001b[38;5;28;01mtry\u001b[39;00m:\n\u001b[0;32m--> 140\u001b[0m     \u001b[38;5;28;01mfrom\u001b[39;00m \u001b[38;5;21;01mclodius\u001b[39;00m\u001b[38;5;21;01m.\u001b[39;00m\u001b[38;5;21;01mtiles\u001b[39;00m\u001b[38;5;21;01m.\u001b[39;00m\u001b[38;5;21;01mcooler\u001b[39;00m \u001b[38;5;28;01mimport\u001b[39;00m tiles, tileset_info\n\u001b[1;32m    141\u001b[0m \u001b[38;5;28;01mexcept\u001b[39;00m \u001b[38;5;167;01mImportError\u001b[39;00m:\n",
      "\u001b[0;31mModuleNotFoundError\u001b[0m: No module named 'clodius'",
      "\nDuring handling of the above exception, another exception occurred:\n",
      "\u001b[0;31mImportError\u001b[0m                               Traceback (most recent call last)",
      "Cell \u001b[0;32mIn[7], line 4\u001b[0m\n\u001b[1;32m      2\u001b[0m \u001b[38;5;28;01mimport\u001b[39;00m \u001b[38;5;21;01mhiglass\u001b[39;00m\u001b[38;5;21;01m.\u001b[39;00m\u001b[38;5;21;01mtilesets\u001b[39;00m\n\u001b[1;32m      3\u001b[0m \u001b[38;5;66;03m#from higlass.client import Track, View\u001b[39;00m\n\u001b[0;32m----> 4\u001b[0m ts1 \u001b[38;5;241m=\u001b[39m \u001b[43mhiglass\u001b[49m\u001b[38;5;241;43m.\u001b[39;49m\u001b[43mtilesets\u001b[49m\u001b[38;5;241;43m.\u001b[39;49m\u001b[43mcooler\u001b[49m\u001b[43m(\u001b[49m\u001b[38;5;124;43m'\u001b[39;49m\u001b[38;5;124;43m/data/processing2/erikson_pipegrp/methylation/chr1.mcool\u001b[39;49m\u001b[38;5;124;43m'\u001b[39;49m\u001b[43m)\u001b[49m\n\u001b[1;32m      5\u001b[0m tr1 \u001b[38;5;241m=\u001b[39m Track(\u001b[38;5;124m'\u001b[39m\u001b[38;5;124mheatmap\u001b[39m\u001b[38;5;124m'\u001b[39m, tileset\u001b[38;5;241m=\u001b[39mts1)\n\u001b[1;32m      6\u001b[0m view1 \u001b[38;5;241m=\u001b[39m View([tr1])\n",
      "File \u001b[0;32m/localenv/erikson/anaconda/envs/methylation/lib/python3.12/site-packages/higlass/tilesets.py:81\u001b[0m, in \u001b[0;36mhash_absolute_filepath_as_default_uid.<locals>.wrapper\u001b[0;34m(filepath, uid)\u001b[0m\n\u001b[1;32m     79\u001b[0m     abspath \u001b[38;5;241m=\u001b[39m pathlib\u001b[38;5;241m.\u001b[39mPath(filepath)\u001b[38;5;241m.\u001b[39mabsolute()\n\u001b[1;32m     80\u001b[0m     uid \u001b[38;5;241m=\u001b[39m hashlib\u001b[38;5;241m.\u001b[39mmd5(\u001b[38;5;28mstr\u001b[39m(abspath)\u001b[38;5;241m.\u001b[39mencode())\u001b[38;5;241m.\u001b[39mhexdigest()\n\u001b[0;32m---> 81\u001b[0m \u001b[38;5;28;01mreturn\u001b[39;00m \u001b[43mfn\u001b[49m\u001b[43m(\u001b[49m\u001b[43mfilepath\u001b[49m\u001b[43m,\u001b[49m\u001b[43m \u001b[49m\u001b[43muid\u001b[49m\u001b[43m)\u001b[49m\n",
      "File \u001b[0;32m/localenv/erikson/anaconda/envs/methylation/lib/python3.12/site-packages/higlass/tilesets.py:142\u001b[0m, in \u001b[0;36mcooler\u001b[0;34m(filepath, uid)\u001b[0m\n\u001b[1;32m    140\u001b[0m     \u001b[38;5;28;01mfrom\u001b[39;00m \u001b[38;5;21;01mclodius\u001b[39;00m\u001b[38;5;21;01m.\u001b[39;00m\u001b[38;5;21;01mtiles\u001b[39;00m\u001b[38;5;21;01m.\u001b[39;00m\u001b[38;5;21;01mcooler\u001b[39;00m \u001b[38;5;28;01mimport\u001b[39;00m tiles, tileset_info\n\u001b[1;32m    141\u001b[0m \u001b[38;5;28;01mexcept\u001b[39;00m \u001b[38;5;167;01mImportError\u001b[39;00m:\n\u001b[0;32m--> 142\u001b[0m     \u001b[38;5;28;01mraise\u001b[39;00m \u001b[38;5;167;01mImportError\u001b[39;00m(\n\u001b[1;32m    143\u001b[0m         \u001b[38;5;124m'\u001b[39m\u001b[38;5;124mYou must have `clodius` installed to use \u001b[39m\u001b[38;5;124m\"\u001b[39m\u001b[38;5;124mmatrix\u001b[39m\u001b[38;5;124m\"\u001b[39m\u001b[38;5;124m data-server.\u001b[39m\u001b[38;5;124m'\u001b[39m\n\u001b[1;32m    144\u001b[0m     )\n\u001b[1;32m    146\u001b[0m \u001b[38;5;28;01mreturn\u001b[39;00m LocalTileset(\n\u001b[1;32m    147\u001b[0m     datatype\u001b[38;5;241m=\u001b[39m\u001b[38;5;124m\"\u001b[39m\u001b[38;5;124mmatrix\u001b[39m\u001b[38;5;124m\"\u001b[39m,\n\u001b[1;32m    148\u001b[0m     tiles\u001b[38;5;241m=\u001b[39mfunctools\u001b[38;5;241m.\u001b[39mpartial(tiles, filepath),\n\u001b[1;32m    149\u001b[0m     info\u001b[38;5;241m=\u001b[39mfunctools\u001b[38;5;241m.\u001b[39mpartial(tileset_info, filepath),\n\u001b[1;32m    150\u001b[0m     uid\u001b[38;5;241m=\u001b[39muid,\n\u001b[1;32m    151\u001b[0m )\n",
      "\u001b[0;31mImportError\u001b[0m: You must have `clodius` installed to use \"matrix\" data-server."
     ]
    }
   ],
   "source": [
    "import higlass\n",
    "import higlass.tilesets\n",
    "#from higlass.client import Track, View\n",
    "ts1 = higlass.tilesets.cooler('/data/processing2/erikson_pipegrp/methylation/chr1.mcool')\n",
    "tr1 = Track('heatmap', tileset=ts1)\n",
    "view1 = View([tr1])\n",
    "display, server, viewconf = higlass.display([view1])\n",
    "display"
   ]
  },
  {
   "cell_type": "code",
   "execution_count": 2,
   "id": "7474ce34-3109-4d02-b1d0-df1cedd301d6",
   "metadata": {
    "tags": []
   },
   "outputs": [
    {
     "name": "stdout",
     "output_type": "stream",
     "text": [
      "Defaulting to user installation because normal site-packages is not writeable\n",
      "Requirement already satisfied: higlass in /home/erikson/.local/lib/python3.10/site-packages (0.0.1)\n",
      "Requirement already satisfied: portpicker in /home/erikson/.local/lib/python3.10/site-packages (from higlass) (1.6.0)\n",
      "Requirement already satisfied: jinja2 in /home/erikson/.local/lib/python3.10/site-packages (from higlass) (3.1.4)\n",
      "Requirement already satisfied: uvicorn in /home/erikson/.local/lib/python3.10/site-packages (from higlass) (0.31.0)\n",
      "Requirement already satisfied: jupyter-server-proxy in /home/erikson/.local/lib/python3.10/site-packages (from higlass) (4.4.0)\n",
      "Requirement already satisfied: higlass-schema in /home/erikson/.local/lib/python3.10/site-packages (from higlass) (0.1.0)\n",
      "Requirement already satisfied: higlass-widget in /home/erikson/.local/lib/python3.10/site-packages (from higlass) (0.1.2)\n",
      "Requirement already satisfied: starlette in /home/erikson/.local/lib/python3.10/site-packages (from higlass) (0.39.2)\n",
      "Requirement already satisfied: pydantic<2.0,>=1.10 in /home/erikson/.local/lib/python3.10/site-packages (from higlass-schema->higlass) (1.10.18)\n",
      "Requirement already satisfied: rich>=13.3.3 in /home/erikson/.local/lib/python3.10/site-packages (from higlass-schema->higlass) (13.9.1)\n",
      "Requirement already satisfied: anywidget>=0.6 in /home/erikson/.local/lib/python3.10/site-packages (from higlass-widget->higlass) (0.9.13)\n",
      "Requirement already satisfied: MarkupSafe>=2.0 in /home/erikson/.local/lib/python3.10/site-packages (from jinja2->higlass) (2.1.5)\n",
      "Requirement already satisfied: tornado>=6.1.0 in /home/erikson/.local/lib/python3.10/site-packages (from jupyter-server-proxy->higlass) (6.4.1)\n",
      "Requirement already satisfied: aiohttp in /home/erikson/.local/lib/python3.10/site-packages (from jupyter-server-proxy->higlass) (3.10.8)\n",
      "Requirement already satisfied: traitlets>=5.1.0 in /home/erikson/.local/lib/python3.10/site-packages (from jupyter-server-proxy->higlass) (5.14.3)\n",
      "Requirement already satisfied: jupyter-server>=1.24.0 in /home/erikson/.local/lib/python3.10/site-packages (from jupyter-server-proxy->higlass) (2.14.2)\n",
      "Requirement already satisfied: simpervisor>=1.0.0 in /home/erikson/.local/lib/python3.10/site-packages (from jupyter-server-proxy->higlass) (1.0.0)\n",
      "Requirement already satisfied: psutil in /home/erikson/.local/lib/python3.10/site-packages (from portpicker->higlass) (6.0.0)\n",
      "Requirement already satisfied: anyio<5,>=3.4.0 in /home/erikson/.local/lib/python3.10/site-packages (from starlette->higlass) (4.6.0)\n",
      "Requirement already satisfied: h11>=0.8 in /home/erikson/.local/lib/python3.10/site-packages (from uvicorn->higlass) (0.14.0)\n",
      "Requirement already satisfied: click>=7.0 in /home/erikson/.local/lib/python3.10/site-packages (from uvicorn->higlass) (8.1.7)\n",
      "Requirement already satisfied: typing-extensions>=4.0 in /home/erikson/.local/lib/python3.10/site-packages (from uvicorn->higlass) (4.12.2)\n",
      "Requirement already satisfied: sniffio>=1.1 in /home/erikson/.local/lib/python3.10/site-packages (from anyio<5,>=3.4.0->starlette->higlass) (1.3.1)\n",
      "Requirement already satisfied: idna>=2.8 in /home/erikson/.local/lib/python3.10/site-packages (from anyio<5,>=3.4.0->starlette->higlass) (3.7)\n",
      "Requirement already satisfied: exceptiongroup>=1.0.2 in /home/erikson/.local/lib/python3.10/site-packages (from anyio<5,>=3.4.0->starlette->higlass) (1.2.1)\n",
      "Requirement already satisfied: psygnal>=0.8.1 in /home/erikson/.local/lib/python3.10/site-packages (from anywidget>=0.6->higlass-widget->higlass) (0.11.1)\n",
      "Requirement already satisfied: ipywidgets>=7.6.0 in /home/erikson/.local/lib/python3.10/site-packages (from anywidget>=0.6->higlass-widget->higlass) (8.1.5)\n",
      "Requirement already satisfied: overrides>=5.0 in /home/erikson/.local/lib/python3.10/site-packages (from jupyter-server>=1.24.0->jupyter-server-proxy->higlass) (7.7.0)\n",
      "Requirement already satisfied: jupyter-events>=0.9.0 in /home/erikson/.local/lib/python3.10/site-packages (from jupyter-server>=1.24.0->jupyter-server-proxy->higlass) (0.10.0)\n",
      "Requirement already satisfied: nbconvert>=6.4.4 in /home/erikson/.local/lib/python3.10/site-packages (from jupyter-server>=1.24.0->jupyter-server-proxy->higlass) (7.16.4)\n",
      "Requirement already satisfied: argon2-cffi>=21.1 in /home/erikson/.local/lib/python3.10/site-packages (from jupyter-server>=1.24.0->jupyter-server-proxy->higlass) (23.1.0)\n",
      "Requirement already satisfied: prometheus-client>=0.9 in /home/erikson/.local/lib/python3.10/site-packages (from jupyter-server>=1.24.0->jupyter-server-proxy->higlass) (0.21.0)\n",
      "Requirement already satisfied: websocket-client>=1.7 in /home/erikson/.local/lib/python3.10/site-packages (from jupyter-server>=1.24.0->jupyter-server-proxy->higlass) (1.8.0)\n",
      "Requirement already satisfied: pyzmq>=24 in /home/erikson/.local/lib/python3.10/site-packages (from jupyter-server>=1.24.0->jupyter-server-proxy->higlass) (26.0.3)\n",
      "Requirement already satisfied: packaging>=22.0 in /home/erikson/.local/lib/python3.10/site-packages (from jupyter-server>=1.24.0->jupyter-server-proxy->higlass) (24.1)\n",
      "Requirement already satisfied: jupyter-core!=5.0.*,>=4.12 in /home/erikson/.local/lib/python3.10/site-packages (from jupyter-server>=1.24.0->jupyter-server-proxy->higlass) (5.7.2)\n",
      "Requirement already satisfied: terminado>=0.8.3 in /home/erikson/.local/lib/python3.10/site-packages (from jupyter-server>=1.24.0->jupyter-server-proxy->higlass) (0.18.1)\n",
      "Requirement already satisfied: jupyter-client>=7.4.4 in /home/erikson/.local/lib/python3.10/site-packages (from jupyter-server>=1.24.0->jupyter-server-proxy->higlass) (8.6.2)\n",
      "Requirement already satisfied: send2trash>=1.8.2 in /home/erikson/.local/lib/python3.10/site-packages (from jupyter-server>=1.24.0->jupyter-server-proxy->higlass) (1.8.3)\n",
      "Requirement already satisfied: jupyter-server-terminals>=0.4.4 in /home/erikson/.local/lib/python3.10/site-packages (from jupyter-server>=1.24.0->jupyter-server-proxy->higlass) (0.5.3)\n",
      "Requirement already satisfied: nbformat>=5.3.0 in /home/erikson/.local/lib/python3.10/site-packages (from jupyter-server>=1.24.0->jupyter-server-proxy->higlass) (5.10.4)\n",
      "Requirement already satisfied: markdown-it-py>=2.2.0 in /home/erikson/.local/lib/python3.10/site-packages (from rich>=13.3.3->higlass-schema->higlass) (3.0.0)\n",
      "Requirement already satisfied: pygments<3.0.0,>=2.13.0 in /home/erikson/.local/lib/python3.10/site-packages (from rich>=13.3.3->higlass-schema->higlass) (2.18.0)\n",
      "Requirement already satisfied: yarl<2.0,>=1.12.0 in /home/erikson/.local/lib/python3.10/site-packages (from aiohttp->jupyter-server-proxy->higlass) (1.13.1)\n",
      "Requirement already satisfied: aiohappyeyeballs>=2.3.0 in /home/erikson/.local/lib/python3.10/site-packages (from aiohttp->jupyter-server-proxy->higlass) (2.4.3)\n",
      "Requirement already satisfied: multidict<7.0,>=4.5 in /home/erikson/.local/lib/python3.10/site-packages (from aiohttp->jupyter-server-proxy->higlass) (6.1.0)\n",
      "Requirement already satisfied: frozenlist>=1.1.1 in /home/erikson/.local/lib/python3.10/site-packages (from aiohttp->jupyter-server-proxy->higlass) (1.4.1)\n",
      "Requirement already satisfied: aiosignal>=1.1.2 in /home/erikson/.local/lib/python3.10/site-packages (from aiohttp->jupyter-server-proxy->higlass) (1.3.1)\n",
      "Requirement already satisfied: async-timeout<5.0,>=4.0 in /home/erikson/.local/lib/python3.10/site-packages (from aiohttp->jupyter-server-proxy->higlass) (4.0.3)\n",
      "Requirement already satisfied: attrs>=17.3.0 in /home/erikson/.local/lib/python3.10/site-packages (from aiohttp->jupyter-server-proxy->higlass) (24.2.0)\n",
      "Requirement already satisfied: argon2-cffi-bindings in /home/erikson/.local/lib/python3.10/site-packages (from argon2-cffi>=21.1->jupyter-server>=1.24.0->jupyter-server-proxy->higlass) (21.2.0)\n",
      "Requirement already satisfied: comm>=0.1.3 in /home/erikson/.local/lib/python3.10/site-packages (from ipywidgets>=7.6.0->anywidget>=0.6->higlass-widget->higlass) (0.2.2)\n",
      "Requirement already satisfied: ipython>=6.1.0 in /home/erikson/.local/lib/python3.10/site-packages (from ipywidgets>=7.6.0->anywidget>=0.6->higlass-widget->higlass) (8.26.0)\n",
      "Requirement already satisfied: jupyterlab-widgets~=3.0.12 in /home/erikson/.local/lib/python3.10/site-packages (from ipywidgets>=7.6.0->anywidget>=0.6->higlass-widget->higlass) (3.0.13)\n",
      "Requirement already satisfied: widgetsnbextension~=4.0.12 in /home/erikson/.local/lib/python3.10/site-packages (from ipywidgets>=7.6.0->anywidget>=0.6->higlass-widget->higlass) (4.0.13)\n",
      "Requirement already satisfied: python-dateutil>=2.8.2 in /home/erikson/.local/lib/python3.10/site-packages (from jupyter-client>=7.4.4->jupyter-server>=1.24.0->jupyter-server-proxy->higlass) (2.9.0.post0)\n",
      "Requirement already satisfied: platformdirs>=2.5 in /home/erikson/.local/lib/python3.10/site-packages (from jupyter-core!=5.0.*,>=4.12->jupyter-server>=1.24.0->jupyter-server-proxy->higlass) (4.2.2)\n",
      "Requirement already satisfied: pyyaml>=5.3 in /home/erikson/.local/lib/python3.10/site-packages (from jupyter-events>=0.9.0->jupyter-server>=1.24.0->jupyter-server-proxy->higlass) (6.0.2)\n",
      "Requirement already satisfied: jsonschema[format-nongpl]>=4.18.0 in /home/erikson/.local/lib/python3.10/site-packages (from jupyter-events>=0.9.0->jupyter-server>=1.24.0->jupyter-server-proxy->higlass) (4.23.0)\n",
      "Requirement already satisfied: referencing in /home/erikson/.local/lib/python3.10/site-packages (from jupyter-events>=0.9.0->jupyter-server>=1.24.0->jupyter-server-proxy->higlass) (0.35.1)\n",
      "Requirement already satisfied: rfc3986-validator>=0.1.1 in /home/erikson/.local/lib/python3.10/site-packages (from jupyter-events>=0.9.0->jupyter-server>=1.24.0->jupyter-server-proxy->higlass) (0.1.1)\n",
      "Requirement already satisfied: python-json-logger>=2.0.4 in /home/erikson/.local/lib/python3.10/site-packages (from jupyter-events>=0.9.0->jupyter-server>=1.24.0->jupyter-server-proxy->higlass) (2.0.7)\n",
      "Requirement already satisfied: rfc3339-validator in /home/erikson/.local/lib/python3.10/site-packages (from jupyter-events>=0.9.0->jupyter-server>=1.24.0->jupyter-server-proxy->higlass) (0.1.4)\n",
      "Requirement already satisfied: mdurl~=0.1 in /home/erikson/.local/lib/python3.10/site-packages (from markdown-it-py>=2.2.0->rich>=13.3.3->higlass-schema->higlass) (0.1.2)\n",
      "Requirement already satisfied: tinycss2 in /home/erikson/.local/lib/python3.10/site-packages (from nbconvert>=6.4.4->jupyter-server>=1.24.0->jupyter-server-proxy->higlass) (1.3.0)\n",
      "Requirement already satisfied: nbclient>=0.5.0 in /home/erikson/.local/lib/python3.10/site-packages (from nbconvert>=6.4.4->jupyter-server>=1.24.0->jupyter-server-proxy->higlass) (0.10.0)\n",
      "Requirement already satisfied: bleach!=5.0.0 in /home/erikson/.local/lib/python3.10/site-packages (from nbconvert>=6.4.4->jupyter-server>=1.24.0->jupyter-server-proxy->higlass) (6.1.0)\n",
      "Requirement already satisfied: pandocfilters>=1.4.1 in /home/erikson/.local/lib/python3.10/site-packages (from nbconvert>=6.4.4->jupyter-server>=1.24.0->jupyter-server-proxy->higlass) (1.5.1)\n",
      "Requirement already satisfied: mistune<4,>=2.0.3 in /home/erikson/.local/lib/python3.10/site-packages (from nbconvert>=6.4.4->jupyter-server>=1.24.0->jupyter-server-proxy->higlass) (3.0.2)\n",
      "Requirement already satisfied: defusedxml in /home/erikson/.local/lib/python3.10/site-packages (from nbconvert>=6.4.4->jupyter-server>=1.24.0->jupyter-server-proxy->higlass) (0.7.1)\n",
      "Requirement already satisfied: jupyterlab-pygments in /home/erikson/.local/lib/python3.10/site-packages (from nbconvert>=6.4.4->jupyter-server>=1.24.0->jupyter-server-proxy->higlass) (0.3.0)\n",
      "Requirement already satisfied: beautifulsoup4 in /home/erikson/.local/lib/python3.10/site-packages (from nbconvert>=6.4.4->jupyter-server>=1.24.0->jupyter-server-proxy->higlass) (4.12.3)\n",
      "Requirement already satisfied: fastjsonschema>=2.15 in /home/erikson/.local/lib/python3.10/site-packages (from nbformat>=5.3.0->jupyter-server>=1.24.0->jupyter-server-proxy->higlass) (2.20.0)\n",
      "Requirement already satisfied: ptyprocess in /home/erikson/.local/lib/python3.10/site-packages (from terminado>=0.8.3->jupyter-server>=1.24.0->jupyter-server-proxy->higlass) (0.7.0)\n",
      "Requirement already satisfied: webencodings in /home/erikson/.local/lib/python3.10/site-packages (from bleach!=5.0.0->nbconvert>=6.4.4->jupyter-server>=1.24.0->jupyter-server-proxy->higlass) (0.5.1)\n",
      "Requirement already satisfied: six>=1.9.0 in /usr/lib/python3/dist-packages (from bleach!=5.0.0->nbconvert>=6.4.4->jupyter-server>=1.24.0->jupyter-server-proxy->higlass) (1.16.0)\n",
      "Requirement already satisfied: matplotlib-inline in /home/erikson/.local/lib/python3.10/site-packages (from ipython>=6.1.0->ipywidgets>=7.6.0->anywidget>=0.6->higlass-widget->higlass) (0.1.7)\n",
      "Requirement already satisfied: jedi>=0.16 in /home/erikson/.local/lib/python3.10/site-packages (from ipython>=6.1.0->ipywidgets>=7.6.0->anywidget>=0.6->higlass-widget->higlass) (0.19.1)\n",
      "Requirement already satisfied: pexpect>4.3 in /home/erikson/.local/lib/python3.10/site-packages (from ipython>=6.1.0->ipywidgets>=7.6.0->anywidget>=0.6->higlass-widget->higlass) (4.9.0)\n",
      "Requirement already satisfied: decorator in /home/erikson/.local/lib/python3.10/site-packages (from ipython>=6.1.0->ipywidgets>=7.6.0->anywidget>=0.6->higlass-widget->higlass) (5.1.1)\n",
      "Requirement already satisfied: stack-data in /home/erikson/.local/lib/python3.10/site-packages (from ipython>=6.1.0->ipywidgets>=7.6.0->anywidget>=0.6->higlass-widget->higlass) (0.6.3)\n",
      "Requirement already satisfied: prompt-toolkit<3.1.0,>=3.0.41 in /home/erikson/.local/lib/python3.10/site-packages (from ipython>=6.1.0->ipywidgets>=7.6.0->anywidget>=0.6->higlass-widget->higlass) (3.0.47)\n",
      "Requirement already satisfied: rpds-py>=0.7.1 in /home/erikson/.local/lib/python3.10/site-packages (from jsonschema[format-nongpl]>=4.18.0->jupyter-events>=0.9.0->jupyter-server>=1.24.0->jupyter-server-proxy->higlass) (0.20.0)\n",
      "Requirement already satisfied: jsonschema-specifications>=2023.03.6 in /home/erikson/.local/lib/python3.10/site-packages (from jsonschema[format-nongpl]>=4.18.0->jupyter-events>=0.9.0->jupyter-server>=1.24.0->jupyter-server-proxy->higlass) (2023.12.1)\n",
      "Requirement already satisfied: webcolors>=24.6.0 in /home/erikson/.local/lib/python3.10/site-packages (from jsonschema[format-nongpl]>=4.18.0->jupyter-events>=0.9.0->jupyter-server>=1.24.0->jupyter-server-proxy->higlass) (24.8.0)\n",
      "Requirement already satisfied: isoduration in /home/erikson/.local/lib/python3.10/site-packages (from jsonschema[format-nongpl]>=4.18.0->jupyter-events>=0.9.0->jupyter-server>=1.24.0->jupyter-server-proxy->higlass) (20.11.0)\n",
      "Requirement already satisfied: fqdn in /home/erikson/.local/lib/python3.10/site-packages (from jsonschema[format-nongpl]>=4.18.0->jupyter-events>=0.9.0->jupyter-server>=1.24.0->jupyter-server-proxy->higlass) (1.5.1)\n",
      "Requirement already satisfied: uri-template in /home/erikson/.local/lib/python3.10/site-packages (from jsonschema[format-nongpl]>=4.18.0->jupyter-events>=0.9.0->jupyter-server>=1.24.0->jupyter-server-proxy->higlass) (1.3.0)\n",
      "Requirement already satisfied: jsonpointer>1.13 in /home/erikson/.local/lib/python3.10/site-packages (from jsonschema[format-nongpl]>=4.18.0->jupyter-events>=0.9.0->jupyter-server>=1.24.0->jupyter-server-proxy->higlass) (3.0.0)\n",
      "Requirement already satisfied: cffi>=1.0.1 in /home/erikson/.local/lib/python3.10/site-packages (from argon2-cffi-bindings->argon2-cffi>=21.1->jupyter-server>=1.24.0->jupyter-server-proxy->higlass) (1.17.1)\n",
      "Requirement already satisfied: soupsieve>1.2 in /home/erikson/.local/lib/python3.10/site-packages (from beautifulsoup4->nbconvert>=6.4.4->jupyter-server>=1.24.0->jupyter-server-proxy->higlass) (2.6)\n",
      "Requirement already satisfied: pycparser in /home/erikson/.local/lib/python3.10/site-packages (from cffi>=1.0.1->argon2-cffi-bindings->argon2-cffi>=21.1->jupyter-server>=1.24.0->jupyter-server-proxy->higlass) (2.22)\n",
      "Requirement already satisfied: parso<0.9.0,>=0.8.3 in /home/erikson/.local/lib/python3.10/site-packages (from jedi>=0.16->ipython>=6.1.0->ipywidgets>=7.6.0->anywidget>=0.6->higlass-widget->higlass) (0.8.4)\n",
      "Requirement already satisfied: wcwidth in /home/erikson/.local/lib/python3.10/site-packages (from prompt-toolkit<3.1.0,>=3.0.41->ipython>=6.1.0->ipywidgets>=7.6.0->anywidget>=0.6->higlass-widget->higlass) (0.2.13)\n",
      "Requirement already satisfied: arrow>=0.15.0 in /home/erikson/.local/lib/python3.10/site-packages (from isoduration->jsonschema[format-nongpl]>=4.18.0->jupyter-events>=0.9.0->jupyter-server>=1.24.0->jupyter-server-proxy->higlass) (1.3.0)\n",
      "Requirement already satisfied: pure-eval in /home/erikson/.local/lib/python3.10/site-packages (from stack-data->ipython>=6.1.0->ipywidgets>=7.6.0->anywidget>=0.6->higlass-widget->higlass) (0.2.2)\n",
      "Requirement already satisfied: asttokens>=2.1.0 in /home/erikson/.local/lib/python3.10/site-packages (from stack-data->ipython>=6.1.0->ipywidgets>=7.6.0->anywidget>=0.6->higlass-widget->higlass) (2.4.1)\n",
      "Requirement already satisfied: executing>=1.2.0 in /home/erikson/.local/lib/python3.10/site-packages (from stack-data->ipython>=6.1.0->ipywidgets>=7.6.0->anywidget>=0.6->higlass-widget->higlass) (2.0.1)\n",
      "Requirement already satisfied: types-python-dateutil>=2.8.10 in /home/erikson/.local/lib/python3.10/site-packages (from arrow>=0.15.0->isoduration->jsonschema[format-nongpl]>=4.18.0->jupyter-events>=0.9.0->jupyter-server>=1.24.0->jupyter-server-proxy->higlass) (2.9.0.20240906)\n"
     ]
    }
   ],
   "source": [
    "!pip install higlass"
   ]
  },
  {
   "cell_type": "code",
   "execution_count": null,
   "id": "b64625e2-15e3-4e13-a9c9-621892cd2763",
   "metadata": {},
   "outputs": [],
   "source": []
  }
 ],
 "metadata": {
  "kernelspec": {
   "display_name": "methylation",
   "language": "python",
   "name": "methylation"
  },
  "language_info": {
   "codemirror_mode": {
    "name": "ipython",
    "version": 3
   },
   "file_extension": ".py",
   "mimetype": "text/x-python",
   "name": "python",
   "nbconvert_exporter": "python",
   "pygments_lexer": "ipython3",
   "version": "3.12.6"
  }
 },
 "nbformat": 4,
 "nbformat_minor": 5
}
