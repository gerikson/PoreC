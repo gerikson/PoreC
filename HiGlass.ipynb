{
 "cells": [
  {
   "cell_type": "code",
   "execution_count": 9,
   "id": "8d2597f7-dd45-4542-9f4b-c45465c49431",
   "metadata": {
    "tags": []
   },
   "outputs": [
    {
     "ename": "AttributeError",
     "evalue": "module 'higlass' has no attribute 'view'",
     "output_type": "error",
     "traceback": [
      "\u001b[0;31m---------------------------------------------------------------------------\u001b[0m",
      "\u001b[0;31mAttributeError\u001b[0m                            Traceback (most recent call last)",
      "\u001b[0;32m/tmp/ipykernel_208686/3983499322.py\u001b[0m in \u001b[0;36m<module>\u001b[0;34m\u001b[0m\n\u001b[1;32m      1\u001b[0m \u001b[0;32mimport\u001b[0m \u001b[0mhiglass\u001b[0m \u001b[0;32mas\u001b[0m \u001b[0mhg\u001b[0m\u001b[0;34m\u001b[0m\u001b[0;34m\u001b[0m\u001b[0m\n\u001b[1;32m      2\u001b[0m \u001b[0;34m\u001b[0m\u001b[0m\n\u001b[0;32m----> 3\u001b[0;31m \u001b[0mhg\u001b[0m\u001b[0;34m.\u001b[0m\u001b[0mview\u001b[0m\u001b[0;34m(\u001b[0m\u001b[0mhg\u001b[0m\u001b[0;34m.\u001b[0m\u001b[0mtrack\u001b[0m\u001b[0;34m(\u001b[0m\u001b[0;34m\"top-axis\"\u001b[0m\u001b[0;34m)\u001b[0m\u001b[0;34m)\u001b[0m\u001b[0;34m\u001b[0m\u001b[0;34m\u001b[0m\u001b[0m\n\u001b[0m",
      "\u001b[0;31mAttributeError\u001b[0m: module 'higlass' has no attribute 'view'"
     ]
    }
   ],
   "source": [
    "import higlass as hg\n",
    "\n",
    "hg.view(hg.track(\"top-axis\"))"
   ]
  },
  {
   "cell_type": "code",
   "execution_count": 8,
   "id": "910081f8-dbbb-40a5-af74-d45d3a7fd00a",
   "metadata": {
    "tags": []
   },
   "outputs": [
    {
     "ename": "AttributeError",
     "evalue": "'Cooler' object has no attribute 'track'",
     "output_type": "error",
     "traceback": [
      "\u001b[0;31m---------------------------------------------------------------------------\u001b[0m",
      "\u001b[0;31mAttributeError\u001b[0m                            Traceback (most recent call last)",
      "\u001b[0;32m/tmp/ipykernel_208686/2242328720.py\u001b[0m in \u001b[0;36m<module>\u001b[0;34m\u001b[0m\n\u001b[1;32m     18\u001b[0m \u001b[0;31m# Create a `hg.HeatmapTrack` for each tileset\u001b[0m\u001b[0;34m\u001b[0m\u001b[0;34m\u001b[0m\u001b[0;34m\u001b[0m\u001b[0m\n\u001b[1;32m     19\u001b[0m \u001b[0;31m#track1 = tileset1.track(\"heatmap\")\u001b[0m\u001b[0;34m\u001b[0m\u001b[0;34m\u001b[0m\u001b[0;34m\u001b[0m\u001b[0m\n\u001b[0;32m---> 20\u001b[0;31m \u001b[0mtrack2\u001b[0m \u001b[0;34m=\u001b[0m \u001b[0mtileset2\u001b[0m\u001b[0;34m.\u001b[0m\u001b[0mtrack\u001b[0m\u001b[0;34m(\u001b[0m\u001b[0;34m\"heatmap\"\u001b[0m\u001b[0;34m)\u001b[0m\u001b[0;34m\u001b[0m\u001b[0;34m\u001b[0m\u001b[0m\n\u001b[0m\u001b[1;32m     21\u001b[0m \u001b[0;34m\u001b[0m\u001b[0m\n\u001b[1;32m     22\u001b[0m \u001b[0;31m# Create two independent `hg.View`s, one for each heatmap\u001b[0m\u001b[0;34m\u001b[0m\u001b[0;34m\u001b[0m\u001b[0;34m\u001b[0m\u001b[0m\n",
      "\u001b[0;31mAttributeError\u001b[0m: 'Cooler' object has no attribute 'track'"
     ]
    }
   ],
   "source": [
    "import higlass as hg\n",
    "import cooler as cooler\n",
    "\n",
    "\n",
    "# Remote data source (tileset)\n",
    "#tileset1 = hg.remote(\n",
    "#    uid=\"CQMd6V_cRw6iCI_-Unl3PQ\",\n",
    "#    server=\"https://higlass.io/api/v1/\",\n",
    "#    name=\"Rao et al. (2014) GM12878 MboI (allreps) 1kb\",\n",
    "#)\n",
    "\n",
    "# Local tileset\n",
    "#tileset2 = hg.cooler(\"../data/dataset.mcool\")\n",
    "#tileset2 = cooler(\"/data/processing2/erikson_pipegrp/methylation/chr1.mcool\")\n",
    "\n",
    "tileset2 = cooler.Cooler(\"/data/processing2/erikson_pipegrp/methylation/chr1.mcool\")\n",
    "\n",
    "# Create a `hg.HeatmapTrack` for each tileset\n",
    "#track1 = tileset1.track(\"heatmap\")\n",
    "track2 = tileset2.track(\"heatmap\")\n",
    "\n",
    "# Create two independent `hg.View`s, one for each heatmap\n",
    "#view1 = hg.view(track1, width=6)\n",
    "view2 = hg.view(track2, width=6)\n",
    "\n",
    "# Lock zoom & location for each `View`\n",
    "#view_lock = hg.lock(view1, view2)\n",
    "view_lock = hg.lock(view2)\n",
    "\n",
    "\n",
    "# Concatenate views horizontally and apply synchronization lock\n",
    "#(view1 | view2).locks(view_lock)"
   ]
  },
  {
   "cell_type": "code",
   "execution_count": 5,
   "id": "02aeca66-51d9-4175-91a9-bcef8330565f",
   "metadata": {
    "tags": []
   },
   "outputs": [],
   "source": [
    "import cooler"
   ]
  },
  {
   "cell_type": "code",
   "execution_count": 2,
   "id": "04703f8f-50a5-4988-b8d0-a32264a478a1",
   "metadata": {
    "tags": []
   },
   "outputs": [
    {
     "name": "stdout",
     "output_type": "stream",
     "text": [
      "['CombinedTrack', 'Server', 'Tileset', 'Track', 'View', 'ViewConf', '__builtins__', '__cached__', '__doc__', '__file__', '__loader__', '__name__', '__package__', '__path__', '__spec__', '__version__', '_jupyter_nbextension_paths', '_version', 'client', 'display', 'server', 'tilesets', 'viewer']\n"
     ]
    }
   ],
   "source": [
    " import higlass as hg\n",
    " print(dir(hg))"
   ]
  },
  {
   "cell_type": "code",
   "execution_count": 2,
   "id": "b9a64a64-e0e4-49cb-a1e2-b6e5f7b1b23b",
   "metadata": {
    "tags": []
   },
   "outputs": [],
   "source": [
    "HOST = 'localhost'\n",
    "PORT = 8004\n",
    "\n",
    "# If using Binder, set this to the current host: https://hub.{domain}/user-{username}-{hash}\n",
    "LOCATION = ''\n",
    "\n",
    "if LOCATION:\n",
    "    # Use the jupyterhub proxy address to reach our server\n",
    "    API_URL = LOCATION.replace('/lab', '') + f'/proxy/{PORT}/api/v1'\n",
    "else:\n",
    "    API_URL = f'http://{HOST}:{PORT}/api/v1'\n",
    "\n",
    "%load_ext autoreload\n",
    "%autoreload 2"
   ]
  },
  {
   "cell_type": "code",
   "execution_count": 3,
   "id": "ab430f62-013a-4ccd-9301-15ef8bb946c4",
   "metadata": {
    "tags": []
   },
   "outputs": [
    {
     "ename": "ImportError",
     "evalue": "cannot import name 'ViewConf' from 'higlass' (/localenv/erikson/anaconda/envs/methylation/lib/python3.12/site-packages/higlass/__init__.py)",
     "output_type": "error",
     "traceback": [
      "\u001b[0;31m---------------------------------------------------------------------------\u001b[0m",
      "\u001b[0;31mImportError\u001b[0m                               Traceback (most recent call last)",
      "Cell \u001b[0;32mIn[3], line 1\u001b[0m\n\u001b[0;32m----> 1\u001b[0m \u001b[38;5;28;01mfrom\u001b[39;00m \u001b[38;5;21;01mhiglass\u001b[39;00m \u001b[38;5;28;01mimport\u001b[39;00m ViewConf\n\u001b[1;32m      2\u001b[0m \u001b[38;5;28;01mfrom\u001b[39;00m \u001b[38;5;21;01mhiglass\u001b[39;00m\u001b[38;5;21;01m.\u001b[39;00m\u001b[38;5;21;01mviewer\u001b[39;00m \u001b[38;5;28;01mimport\u001b[39;00m HiGlassDisplay\n\u001b[1;32m      4\u001b[0m viewconf \u001b[38;5;241m=\u001b[39m ViewConf\u001b[38;5;241m.\u001b[39mfrom_link(\u001b[38;5;124m'\u001b[39m\u001b[38;5;124mhttp://higlass.io/app/?config=cX4bUPtPSIqPtsQ7r6pBGg\u001b[39m\u001b[38;5;124m'\u001b[39m)\n",
      "\u001b[0;31mImportError\u001b[0m: cannot import name 'ViewConf' from 'higlass' (/localenv/erikson/anaconda/envs/methylation/lib/python3.12/site-packages/higlass/__init__.py)"
     ]
    }
   ],
   "source": [
    "from higlass import ViewConf\n",
    "from higlass.viewer import HiGlassDisplay\n",
    "\n",
    "viewconf = ViewConf.from_link('http://higlass.io/app/?config=cX4bUPtPSIqPtsQ7r6pBGg')\n",
    "HiGlassDisplay(viewconf=viewconf.to_dict())"
   ]
  },
  {
   "cell_type": "code",
   "execution_count": 5,
   "id": "046b5d35-e760-4546-9707-5340f8843a0d",
   "metadata": {
    "tags": []
   },
   "outputs": [
    {
     "name": "stdout",
     "output_type": "stream",
     "text": [
      "\u001b[33m(Deprecated) Installing extensions with the jupyter labextension install command is now deprecated and will be removed in a future major version of JupyterLab.\n",
      "\n",
      "Users should manage prebuilt extensions with package managers like pip and conda, and extension authors are encouraged to distribute their extensions as prebuilt packages \u001b[0m\n",
      "An error occurred.\n",
      "PermissionError: [Errno 13] Permission denied: '/opt/python/jupyter/share/jupyter/lab/extensions'\n",
      "See the log file for details:  /tmp/jupyterlab-debug-q9r6yuhv.log\n"
     ]
    }
   ],
   "source": [
    "!jupyter labextension install @jupyter-widgets/jupyterlab-manager"
   ]
  },
  {
   "cell_type": "code",
   "execution_count": null,
   "id": "10565691-fd8d-434f-97f0-643b477a60b9",
   "metadata": {},
   "outputs": [],
   "source": []
  }
 ],
 "metadata": {
  "kernelspec": {
   "display_name": "clodius_env",
   "language": "python",
   "name": "clodius_env"
  },
  "language_info": {
   "codemirror_mode": {
    "name": "ipython",
    "version": 3
   },
   "file_extension": ".py",
   "mimetype": "text/x-python",
   "name": "python",
   "nbconvert_exporter": "python",
   "pygments_lexer": "ipython3",
   "version": "3.7.12"
  }
 },
 "nbformat": 4,
 "nbformat_minor": 5
}
